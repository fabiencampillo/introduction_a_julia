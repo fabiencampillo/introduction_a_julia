{
 "cells": [
  {
   "cell_type": "markdown",
   "metadata": {
    "slideshow": {
     "slide_type": "slide"
    }
   },
   "source": [
    "# 0. Comment installer et utiliser Julia\n",
    "\n",
    "Ici:\n",
    "- Juliabox: Julia sans rien installer\n",
    "- Installer Julia \n",
    "- Installer Julia sur Mac\n",
    "- Compléter son evironnement\n",
    "- Construire son environnement avec les packages\n",
    "- On récapitule les environnements de travail\n",
    "- Se documenter"
   ]
  },
  {
   "cell_type": "markdown",
   "metadata": {
    "slideshow": {
     "slide_type": "slide"
    }
   },
   "source": [
    "## Juliabox: Julia sans rien installer\n",
    "\n",
    "\n",
    "On peut <font color='FIREBRICK'>utiliser Julia sans l'installer</font>, il suffit d'aller sur le serveur **[Juliabox](https://www.juliabox.com)**. Le format de travail est alors celui des notebooks.\n",
    "\n",
    "*Il semble y avoir encore pas mal de \"bugs\", mais cela va certainement se perfectionner.*"
   ]
  },
  {
   "cell_type": "markdown",
   "metadata": {
    "slideshow": {
     "slide_type": "slide"
    }
   },
   "source": [
    "## Installer Julia\n",
    "\n",
    "Voir la page [téléchargements](https://julialang.org/downloads/ \"julialang.org/downloads\") de [julialang.org](https://julialang.org) (et  éventuellement cette page [wikibooks](https://en.wikibooks.org/wiki/Introducing_Julia/Getting_started)).\n",
    "\n",
    "Pour l'installation, vous avez 2 possibilités simples:\n",
    "- <font color='FIREBRICK'>Vous voulez maîtriser votre installation et n'installer que ce qui vous intéresse ?</font>  Pour cela:\n",
    "    - [téléchargez](https://julialang.org/downloads/ \"sur julialang.org/downloads\") Julia (voir exemple ci-dessous)\n",
    "    - construisez-vous un environnement personnel via les [packages](https://pkg.julialang.org \"pkg.julialang.org\") (voir ci-dessous);\n",
    "- <font color='FIREBRICK'>Vous ne voulez pas trop vous embêter et installer tout un environnement de travail en une seule fois ?</font> Pour cela: installez [Juliapro](https://juliacomputing.com/products/juliapro.html \"sur juliacomputing.com\").\n"
   ]
  },
  {
   "cell_type": "markdown",
   "metadata": {
    "slideshow": {
     "slide_type": "slide"
    }
   },
   "source": [
    "## Installer Julia sur Mac\n",
    "\n",
    "Pour Mac:\n",
    "1. installer le [DMG](https://julialang.org/downloads/ \"sur juliacomputing.com\") dans `/Applications/`;\n",
    "1. compléter la variable `$PATH` dans `.bashrc` ou dans `.bash_profile`  \n",
    "```shell\n",
    "    export PATH=“/Applications/Julia-0.6.app/Contents/Resources/julia/bin/:$PATH\"\n",
    "```\n",
    "1. depuis Julia, construire son environnement personnel via les [packages](https://pkg.julialang.org).\n",
    "\n",
    "\n",
    "\n"
   ]
  },
  {
   "cell_type": "markdown",
   "metadata": {
    "slideshow": {
     "slide_type": "slide"
    }
   },
   "source": [
    "Mis à part l'exécutable, tout est dans `~/.julia` :\n",
    "\n",
    "\n",
    "```\n",
    "$ type julia\n",
    "julia is /Applications/Julia-0.6.app/Contents/Resources/julia/bin/julia\n",
    "$ ls ~/.julia\n",
    "lib/  v0.6/\n",
    "```\n",
    "\n",
    "Donc, en particulier, en cas de panique, notamment en cas de conflits entre packages, on peut faire \n",
    "\n",
    "```\n",
    "rm -rf ~/.julia\n",
    "```\n",
    "et prendre un nouveau départ :-)\n"
   ]
  },
  {
   "cell_type": "markdown",
   "metadata": {
    "slideshow": {
     "slide_type": "slide"
    }
   },
   "source": [
    "## Compléter son evironnement\n",
    "Pour aller plus loin, voir la page https://julialang.org/downloads/.\n",
    "\n",
    "- **éditer**\n",
    "  1. installez l'éditeur [Atom](https://atom.io) proposé par Github\n",
    "  2. et  [uber-juno](https://github.com/JunoLab/uber-juno/blob/master/setup.md) de [junolab.org](http://junolab.org)\n",
    "  \n",
    "  Voir les [instructions détaillées](http://docs.junolab.org/latest/man/installation.html#Installation-Instructions-1).\n",
    "\n",
    "\n",
    "- **débugger**\n",
    "  - C'est le package [Gallium](https://github.com/Keno/Gallium.jl)\n",
    "  - C'est inrégré à Juno, voir cette [vidéo](https://www.youtube.com/watch?v=yDwUL3aRSRc)\n",
    "\n",
    "\n",
    "- **profiler**\n",
    "  - C'est le module [Profile](https://docs.julialang.org/en/stable/manual/profile/) (les [modules](https://docs.julialang.org/en/stable/manual/modules/) sont différents des packages)\n",
    "  - C'est intégré à [Juno](http://docs.junolab.org/latest/man/juno_frontend.html#Profiler-1)\n"
   ]
  },
  {
   "cell_type": "markdown",
   "metadata": {
    "slideshow": {
     "slide_type": "slide"
    }
   },
   "source": [
    "# Construire son environnement avec les packages\n",
    "\n",
    "Les **packages** sont simples à [utiliser](https://docs.julialang.org/en/release-0.4/manual/packages/), [gérer](https://docs.julialang.org/en/stable/stdlib/pkg/) et même [créer](https://docs.julialang.org/en/release-0.4/manual/packages/#package-development); voir la [liste des packages](https://pkg.julialang.org). Pour installer un package sur son ordinateur, faire (une seule fois):\n",
    "```julia\n",
    "    Pkg.add(un_nom_de_package)\n",
    "```\n",
    "puis à chaque session Julia nécessitant ce package faire:\n",
    "```julia\n",
    "    using un_nom_de_package\n",
    "```\n",
    "puis selon les besoins\n",
    "```julia\n",
    "    Pkg.rm(un_nom_de_package) # suppression du package\n",
    "    Pkg.installed()           # packages installés\n",
    "    Pkg.update()              # mise à jour des packages\n",
    "```\n",
    "Tout cela est très orienté par le  logiciel de gestion de versions décentralisé [git](https://fr.wikipedia.org/wiki/Git), on vous conseille de comprendre un minimum cet outil.\n",
    "\n",
    "\n",
    "Parmi les packages notons [IJulia](https://github.com/JuliaLang/IJulia.jl) qui est la backend Julia pour l'environnement de notebooks Jypyter permet de faire des notebooks Julia."
   ]
  },
  {
   "cell_type": "markdown",
   "metadata": {
    "slideshow": {
     "slide_type": "slide"
    }
   },
   "source": [
    "## On récapitule les environnements de travail\n",
    "\n",
    "\n",
    "On dispose in fine de plusieurs environnements, il suffit de choisir le sien:\n",
    "\n",
    "- **Juliabox** qui ne nécessite aucune installation et reprend le format de travail `notebooks`\n",
    "- L'**interpréteur Julia** qui vous permet de traiter des cycles de REPL (boucles de lecture, évaluation, affichage)\n",
    "\n",
    "```\n",
    "$ julia\n",
    "               _\n",
    "   _       _ _(_)_     |  A fresh approach to technical computing\n",
    "  (_)     | (_) (_)    |  Documentation: https://docs.julialang.org\n",
    "   _ _   _| |_  __ _   |  Type \"?help\" for help.\n",
    "  | | | | | | |/ _` |  |\n",
    "  | | |_| | | | (_| |  |  Version 0.6.2 (2017-12-13 18:08 UTC)\n",
    " _/ |\\__'_|_|_|\\__'_|  |  Official http://julialang.org/ release\n",
    "|__/                   |  x86_64-apple-darwin14.5.0\n",
    "\n",
    "julia> println(\"Hello world!\")\n",
    "Hello world!\n",
    "```\n",
    "\n",
    "- l'IDE **Juno** sous l'éditeur **Atom** qui permet l'édition/exécution, mais aussi l', et bien plus (évaluation en-ligne; coloration syntaxique...)\n",
    "\n",
    "- l'environnement **Jupyter** afin de créer vos `notebooks` via un browser, il se lance via `jupyter notebooks`. Voir aussi la belle application [NTERACT](https://moderndata.plot.ly/nteract-revolutionizing-notebook-experience/) qui ne nécessite pas de browser.\n",
    "\n",
    "\n",
    "- vous pouvez utiliser votre éditeur préféré afin de développer des **scripts**, puis les exécuter :\n",
    "\n",
    "```shell\n",
    "$ julia script.jl arg1 arg2...\n",
    "```"
   ]
  },
  {
   "cell_type": "markdown",
   "metadata": {},
   "source": [
    "## Se documenter\n",
    "\n",
    "De façon interactive:"
   ]
  },
  {
   "cell_type": "code",
   "execution_count": 1,
   "metadata": {},
   "outputs": [
    {
     "name": "stdout",
     "output_type": "stream",
     "text": [
      "search: \u001b[1ms\u001b[22m\u001b[1mi\u001b[22m\u001b[1mn\u001b[22m \u001b[1ms\u001b[22m\u001b[1mi\u001b[22m\u001b[1mn\u001b[22mh \u001b[1ms\u001b[22m\u001b[1mi\u001b[22m\u001b[1mn\u001b[22md \u001b[1ms\u001b[22m\u001b[1mi\u001b[22m\u001b[1mn\u001b[22mc \u001b[1ms\u001b[22m\u001b[1mi\u001b[22m\u001b[1mn\u001b[22mpi a\u001b[1ms\u001b[22m\u001b[1mi\u001b[22m\u001b[1mn\u001b[22m u\u001b[1ms\u001b[22m\u001b[1mi\u001b[22m\u001b[1mn\u001b[22mg i\u001b[1ms\u001b[22m\u001b[1mi\u001b[22m\u001b[1mn\u001b[22mf a\u001b[1ms\u001b[22m\u001b[1mi\u001b[22m\u001b[1mn\u001b[22mh a\u001b[1ms\u001b[22m\u001b[1mi\u001b[22m\u001b[1mn\u001b[22md i\u001b[1ms\u001b[22m\u001b[1mi\u001b[22m\u001b[1mn\u001b[22mteger\n",
      "\n"
     ]
    },
    {
     "data": {
      "text/markdown": [
       "```\n",
       "sin(x)\n",
       "```\n",
       "\n",
       "Compute sine of `x`, where `x` is in radians.\n"
      ],
      "text/plain": [
       "```\n",
       "sin(x)\n",
       "```\n",
       "\n",
       "Compute sine of `x`, where `x` is in radians.\n"
      ]
     },
     "execution_count": 1,
     "metadata": {},
     "output_type": "execute_result"
    }
   ],
   "source": [
    "?sin"
   ]
  },
  {
   "cell_type": "markdown",
   "metadata": {},
   "source": [
    "Sinon\n",
    "- [Julia docs](https://docs.julialang.org/en/stable/)\n",
    "- faire appel à la communauté\n",
    "   - Les [forum de discussion](https://discourse.julialang.org)\n",
    "   - Le [salon de discussion Gitter](https://gitter.im/JuliaLang/julia), également du coté de [Slack](https://julialang.slack.com)\n",
    "   - La [chaîne](https://www.youtube.com/user/JuliaLanguage) YouTube\n",
    "   - et  [plus encore](https://julialang.org/community/)."
   ]
  },
  {
   "cell_type": "code",
   "execution_count": null,
   "metadata": {},
   "outputs": [],
   "source": []
  }
 ],
 "metadata": {
  "celltoolbar": "Slideshow",
  "kernelspec": {
   "display_name": "Julia 0.6.2",
   "language": "julia",
   "name": "julia-0.6"
  },
  "language_info": {
   "file_extension": ".jl",
   "mimetype": "application/julia",
   "name": "julia",
   "version": "0.6.2"
  },
  "latex_envs": {
   "LaTeX_envs_menu_present": true,
   "autoclose": false,
   "autocomplete": true,
   "bibliofile": "biblio.bib",
   "cite_by": "apalike",
   "current_citInitial": 1,
   "eqLabelWithNumbers": true,
   "eqNumInitial": 1,
   "hotkeys": {
    "equation": "Ctrl-E",
    "itemize": "Ctrl-I"
   },
   "labels_anchors": false,
   "latex_user_defs": false,
   "report_style_numbering": false,
   "user_envs_cfg": false
  }
 },
 "nbformat": 4,
 "nbformat_minor": 2
}
