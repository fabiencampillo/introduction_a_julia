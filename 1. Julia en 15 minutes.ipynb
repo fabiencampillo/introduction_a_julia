{
 "cells": [
  {
   "cell_type": "markdown",
   "metadata": {},
   "source": [
    "# 1. Julia en 15 minutes\n",
    "\n",
    "Points abordés : \n",
    "1. Vos amis \"documentation\" et \"complétion\"\n",
    "1. Noms de variables\n",
    "1. Nombres\n",
    "1. `Bool` - booléens\n",
    "1. `String` - chaînes de caractères\n",
    "1. Collections et structures de données\n",
    "    1. `Range` - ranges\n",
    "    1. `Array` - tableaux\n",
    "    1. `Tuple` - tuples\n",
    "    1. `Dict` - dictionnaires\n",
    "    1. `Set` - ensembles\n",
    "1. Structures de commandes et fonctions\n",
    "    1. Instructions composées\n",
    "    1. Boucles `for` et `while`\n",
    "    1. Instructions conditionnelles\n",
    "    1. Gestion des exceptions\n",
    "    1. Fonctions\n",
    "1. Quelques outils\n",
    "    1. Macro `@time`\n",
    "    1. Macro `@show`\n",
    "1. Exemples\n",
    "   1. Equation du second degré\n",
    "   1. Méthode de la dichotomie\n",
    "   1. Manipulation de matrices\n",
    "\n",
    "\n",
    "(voir aussi l'[antisèche Julia](https://juliadocs.github.io/Julia-Cheat-Sheet/))      "
   ]
  },
  {
   "cell_type": "markdown",
   "metadata": {},
   "source": [
    "----\n",
    "## 1. Aide, documentation et complétion\n",
    "\n",
    "**Vous ne savez plus ce que la fonction sinus fait ni même comment elle s'écrit ?**  Vous avez alors deux amis: \n",
    "- `?` documentations\n",
    "- `<TAB>` complétion \n",
    "\n",
    "Tapez `?si<TAB>` et les différentes possibilités apparaîtront."
   ]
  },
  {
   "cell_type": "code",
   "execution_count": null,
   "metadata": {},
   "outputs": [],
   "source": [
    "?sin  # positionné le curseur après \"?si\" et faite <tab> pour avoir toutes les commandes commençant par \"si\""
   ]
  },
  {
   "cell_type": "markdown",
   "metadata": {},
   "source": [
    "----\n",
    "## 2. Noms de variables\n",
    "\n"
   ]
  },
  {
   "cell_type": "code",
   "execution_count": null,
   "metadata": {},
   "outputs": [],
   "source": [
    "x = 1                   # affecte l'objet entier à la variable x \n",
    "                        #     et affiche le résultats sou le REPL ou sous notebook\n",
    "x = 1 ;                 # affecte l'objet entier à la variable x \n",
    "                        #     et N'AFFICHE PAS le résultat sous le REPL ou sous notebook"
   ]
  },
  {
   "cell_type": "markdown",
   "metadata": {},
   "source": [
    "En Julia les noms de variables sont constitués de caractères UTF-8, cela peut être intéressant:"
   ]
  },
  {
   "cell_type": "code",
   "execution_count": null,
   "metadata": {},
   "outputs": [],
   "source": [
    "\n",
    "une_variable = \"test\"   # conseil: noms en minuscules avec des underscores\n",
    "itération = 1           # notez l'accent qui est autorisé\n",
    "σ = 1                   # taper \\sigma   suivi de <tab>    (complétion: tapez \\s: suivi de <tab>)\n",
    "🎱 = 1.                 # taper \\:8ball: suivi de <tab>    (complétion: tapez \\: suivi de <tab>)\n",
    "σ == 🎱                 # σ et 🎱 sont égaux.... (notez le caractère \"8 ball\" en italique...) "
   ]
  },
  {
   "cell_type": "markdown",
   "metadata": {},
   "source": [
    "----\n",
    "## 3. Nombres\n",
    "\n",
    "Parmi les nombres possibles:"
   ]
  },
  {
   "cell_type": "code",
   "execution_count": null,
   "metadata": {},
   "outputs": [],
   "source": [
    "8            # nombre entier,     de type Int64 (codé en 64 bits)\n",
    "8.12         # nombre réel,       de type Float64\n",
    "8 + 2im      # nombre complexe,   de type Complex{Int64}   (construit avec des Int64)\n",
    "8. + 2im     # nombre complexe,   de type Complex{Float64} (construit avec des Float64)\n",
    "8//9         # nombre rationnel,  de type Rational{Int64}  (construit avec des Int64)\n",
    "println(\"un nombre rationnel : \",4//3, # (on peut couper une ligne de commande en deux)\n",
    "    \" de type \",typeof(3//4))         # println : affiche ses arguments suivis d'un \"\\n\" (new line)\n",
    "                                      # typeof : affiche le type de ses arguments"
   ]
  },
  {
   "cell_type": "markdown",
   "metadata": {},
   "source": [
    "La partie imaginaire est notée `im`, on peut utiliser la notation `8+2im` ou `8+2*im`. On a bien:"
   ]
  },
  {
   "cell_type": "code",
   "execution_count": null,
   "metadata": {},
   "outputs": [],
   "source": [
    "im^2"
   ]
  },
  {
   "cell_type": "markdown",
   "metadata": {},
   "source": [
    "On dispose des opérations classiques:"
   ]
  },
  {
   "cell_type": "code",
   "execution_count": null,
   "metadata": {},
   "outputs": [],
   "source": [
    "3 + 1      \n",
    "4 - 3      \n",
    "10 * 2\n",
    "2^3\n",
    "sqrt(3)\n",
    "20/3         # division \n",
    "20\\3         # inverse de 20/3, i.e. 3/20      20/3 est 1/(20\\3)\n",
    "div(20,3)    # division tronquée à un entier\n",
    "20%3         # reste de la division précédente 20 = 3 * div(20,3) + 20%3 "
   ]
  },
  {
   "cell_type": "code",
   "execution_count": null,
   "metadata": {},
   "outputs": [],
   "source": [
    "x = 0.5\n",
    "1 + 2x # notez qu'il n'est pas nécessaire d'écrire 1+2*x\n",
    "       # en revanche 1+x*2 ne peut pas s'écrire 1+x2 "
   ]
  },
  {
   "cell_type": "markdown",
   "metadata": {},
   "source": [
    "----\n",
    "## 4. `Bool` - booléens"
   ]
  },
  {
   "cell_type": "code",
   "execution_count": null,
   "metadata": {},
   "outputs": [],
   "source": [
    "true          # vrai\n",
    "false         # faux\n",
    "!true         # faux\n",
    "1 == 1        # vrai\n",
    "1 != 1        # faux\n",
    "1 == 1.       # vrai\n",
    "1 != 2        # vrai, 1 est différent de 2\n",
    "3 > 7         # est faux\n",
    "2 >= 2        # est vrai\n",
    "5 < 7 < 18.\n",
    "true & false  # est faux,  \"et\" logique\n",
    "true | false  # est vrai,  \"ou\" logique\n",
    "true == 1     # ça il sait le faire, il admet que true peut se comprendre comme 1 \n",
    "true == 1.  ;"
   ]
  },
  {
   "cell_type": "code",
   "execution_count": null,
   "metadata": {},
   "outputs": [],
   "source": [
    "a = 1\n",
    "b = 1.\n",
    "a == b                  # a et b sont égaux comme nombres"
   ]
  },
  {
   "cell_type": "markdown",
   "metadata": {},
   "source": [
    "----\n",
    "## 5. `String` - chaînes de caractères\n",
    "\n"
   ]
  },
  {
   "cell_type": "markdown",
   "metadata": {},
   "source": [
    "Les chaînes de caractères et les caractères ont des syntaxes différentes:"
   ]
  },
  {
   "cell_type": "code",
   "execution_count": null,
   "metadata": {},
   "outputs": [],
   "source": [
    "x = \"a\"       # ceci est le chaîne de caractères ne contenant que la lettre 'a'\n",
    "y = 'a'       # ceci est le caractère 'a' ('aa' n'a pas exemple pas de sens)\n",
    "x == y"
   ]
  },
  {
   "cell_type": "markdown",
   "metadata": {},
   "source": [
    "### Construction des chaînes "
   ]
  },
  {
   "cell_type": "code",
   "execution_count": null,
   "metadata": {},
   "outputs": [],
   "source": [
    "chaîne = readline()    # lit la ligne suivante (depuis le std input)"
   ]
  },
  {
   "cell_type": "code",
   "execution_count": null,
   "metadata": {},
   "outputs": [],
   "source": [
    "chaîne  = \"5/2 vaut $(5/2)\"           # => \"5/2 vaut 2.5\"\n",
    "x, y = 1.2, 2.3\n",
    "chaîne  = \"le résultats est $(x+y)\"   # => \"le résultats est 3.5\"\n",
    "chaîne  = @printf \"%d est inférieur à %f\" 4.5 5.8   # => \"5 est inférieur à 5.800000\""
   ]
  },
  {
   "cell_type": "code",
   "execution_count": null,
   "metadata": {},
   "outputs": [],
   "source": [
    "chaîne1 = \"\"\"Une autre possibilité de créer\\n des chaînes de caractères\\n θ 🍺\"\"\"\n",
    "chaîne2 = \"\"\"Une autre possibilité de créer\n",
    "des chaînes de caractères\n",
    "θ 🍺\"\"\"\n",
    "chaîne1 == chaîne2"
   ]
  },
  {
   "cell_type": "code",
   "execution_count": null,
   "metadata": {},
   "outputs": [],
   "source": [
    "println(chaîne1)        # interprète les caractères spéciaux"
   ]
  },
  {
   "cell_type": "markdown",
   "metadata": {},
   "source": [
    "### Opérations sur les caractères"
   ]
  },
  {
   "cell_type": "code",
   "execution_count": null,
   "metadata": {},
   "outputs": [],
   "source": [
    "'a' + 1       # => 'b'\n",
    "'a' * 'a'     # => \"aa\" (chaine de caractères)\n",
    "'b' - 'a'     # => 1 équivalent à Int('b')-Int('a')\n",
    "'z' - 'a'     # => 25\n",
    "'a' < 'b'     # => true\n",
    "'A' < 'a' ;   # => true"
   ]
  },
  {
   "cell_type": "markdown",
   "metadata": {},
   "source": [
    "### Opération sur les chaînes"
   ]
  },
  {
   "cell_type": "code",
   "execution_count": null,
   "metadata": {},
   "outputs": [],
   "source": [
    "\"bière\" < \"theta\"   # => true\n",
    "\"123\" * \"456\" ;     # => \"123456\" (concaténation)"
   ]
  },
  {
   "cell_type": "code",
   "execution_count": null,
   "metadata": {
    "scrolled": true
   },
   "outputs": [],
   "source": [
    "println(  search(\"Les petits pois sont rouges\", 'i')                ,\"\\n\",\n",
    "          search(\"Les petits pois sont rouges\", 'i', 8)             ,\"\\n\",\n",
    "          contains(\"Les petits pois sont rouges\", \"pois\")           ,\"\\n\",\n",
    "          length(\"Les petits pois sont rouges\")                     ,\"\\n\",\n",
    "          replace(\"Les petits pois sont rouges\",\"rouges\",\"verts\")   ,\"\\n\",\n",
    "          \"Les petits pois sont rouges\"[3:8]                        ,\"\\n\",\n",
    "          uppercase(\"Les petits pois sont rouges\")                      )"
   ]
  },
  {
   "cell_type": "markdown",
   "metadata": {},
   "source": [
    "On peut parcourir les caractères d'une chaîne:"
   ]
  },
  {
   "cell_type": "code",
   "execution_count": null,
   "metadata": {},
   "outputs": [],
   "source": [
    "for c in \"un 🌵 vert\"\n",
    "    print(c)\n",
    "end"
   ]
  },
  {
   "cell_type": "markdown",
   "metadata": {},
   "source": [
    "On peut aussi construire des sous-chaines de caractères:"
   ]
  },
  {
   "cell_type": "code",
   "execution_count": null,
   "metadata": {},
   "outputs": [],
   "source": [
    "\"abcdefg\"[2]                  # => 'b'     (c'est un Char)\n",
    "\"abcdefg\"[2:4]                # => \"bcd\"   (c'est un String)\n",
    "\"abcdefg\"[2:end]              # => \"bcdefg\"\n",
    "\"abcdefg\"[end:-1:1]           # => \"gfedcba\" équivalent à reverse(\"abcdefg\")\n",
    "split(\"You know my name\")     # => [\"You\", \"know\", \"my\", \"name\"]\n",
    "split(\"You know my name\",\"n\");# => [\"You k\", \"ow my \", \"ame\"]"
   ]
  },
  {
   "cell_type": "markdown",
   "metadata": {},
   "source": [
    "----\n",
    "## 6. Collections et structures de données"
   ]
  },
  {
   "cell_type": "markdown",
   "metadata": {},
   "source": [
    "### A. `Range` - ranges\n",
    "\n",
    "On a déjà vu des expressions comme `\"abcdefg\"[2:4]` où la chaine de caractères `\"abcdefg\"` est vue comme une suite de caractères et  `\"abcdefg\"[2:4]`  et la sous-chaine comprenant les caractères 2 à 4, ici `[2:4]` représente la suite des indices concernés, en fait cet objet est de type `Range` qu'il faut comprendre un minimum.\n",
    "\n",
    "Le type `range`, qui sera utile par exemple dans les boucles `for`, permet aussi de créer des arrays. On peut le construire par pas selon la syntaxe:\n",
    "```\n",
    "   début:[pas:]fin\n",
    "```\n",
    "ou par longueur selon la syntaxe:\n",
    "```\n",
    "  range(début,[pas,]longueur)\n",
    "```\n",
    "on peut créer des objets équivalents grâce à:\n",
    "```\n",
    "  linspace(début,fin,longueur)\n",
    "```"
   ]
  },
  {
   "cell_type": "code",
   "execution_count": null,
   "metadata": {},
   "outputs": [],
   "source": [
    "mes_ranges = (\n",
    "    1:5,                # de 1 à 5 par pas de 1 \n",
    "    range(1,6),         # 6 termes à partir de 1\n",
    "    1:2:6,              #  par pas de 2\n",
    "    linspace(0,10,4),   # de 0 à 10 en 4 termes\n",
    "    1.5:2.1:8,          # aussi valable pour les non-entiers\n",
    "    8:-1:0)             # pas négatif\n",
    "for i in mes_ranges                                     # la boucle for est très simple\n",
    "    println(rpad(i,28),\"  \",length(i),\"  \",collect(i))  # rpad: affiche son arg à gauche d'une colonne de 12\n",
    "end                                                     # caractères; length: nb de termes"
   ]
  },
  {
   "cell_type": "code",
   "execution_count": null,
   "metadata": {},
   "outputs": [],
   "source": [
    "x = 0:e:7 \n",
    "step(x)         # pas du range, ici ce pas = e\n",
    "length(x)       # nombre de termes du range\n",
    "round.(x)       # on peut \"broadcaster\" une fonction sur le range avec le \".\"\n",
    "sin.(x)         #  idem\n",
    "y = collect(x)  # converti les ranges en arrays (cf. infra)\n",
    "pop!(y)         # y est modifié en place"
   ]
  },
  {
   "cell_type": "markdown",
   "metadata": {},
   "source": [
    "### B. `Array` - tableaux\n",
    "\n",
    "Les arrays (tableaux) permettent aussi de représenter des vecteurs et des matrices (voir Exemple 2 infra). Ils sont **mutables**.\n",
    "\n",
    "\n",
    "Un array est une **collection ordonnée de termes**. On peut créer des arrays vides ou non, contenant des types différents ou des types spécifiques. En Julia, les tableaux sont utilisés pour les listes, les vecteurs, les tableaux et les matrices.\n",
    "\n",
    "Premier point, ils sont **mutables**:"
   ]
  },
  {
   "cell_type": "code",
   "execution_count": null,
   "metadata": {},
   "outputs": [],
   "source": [
    "x = [1, 2 ,3] \n",
    "y = x         # les variables x et y désignent le même objet\n",
    "y[1] = 0      # modifier y revient à modifier x\n",
    "x === y"
   ]
  },
  {
   "cell_type": "markdown",
   "metadata": {},
   "source": [
    "d'où la nécessité d'avoir des fonctions `copy` et `deepcopy`:"
   ]
  },
  {
   "cell_type": "code",
   "execution_count": null,
   "metadata": {},
   "outputs": [],
   "source": [
    "x = Any[1, 2, 3, [4, 5, 6]]\n",
    "y = copy(x)       # copie superficielle\n",
    "z = deepcopy(x)   # copie profonde\n",
    "x[4][1] = 0\n",
    "x == y, x == z"
   ]
  },
  {
   "cell_type": "markdown",
   "metadata": {},
   "source": [
    "#### Construction d'arrays"
   ]
  },
  {
   "cell_type": "code",
   "execution_count": null,
   "metadata": {},
   "outputs": [],
   "source": [
    "a = [1:5;]    # => [1, 2, 3, 4, 5] identique à collect(1:5)  \n",
    "b = [1:5]     # => un array avec un élément de type range 1:5\n",
    "println(a)\n",
    "println(b)\n",
    "typeof(a), typeof(b)"
   ]
  },
  {
   "cell_type": "code",
   "execution_count": null,
   "metadata": {},
   "outputs": [],
   "source": [
    "x = [1, 2, 3]           # array de Int64                Array{Int64,1}\n",
    "x = [1; 2; 3]           # même objet\n",
    "x = [1., 2, 3]          # array de Float64              Array{Float64,1}\n",
    "x = [\"pois\", \"rouges\"]  # array de String               Array{String,1}\n",
    "x = [sin, cos, tan]     # array de fonctions Function    Array{Function,1}\n",
    "x = [\"pois\", cos, 1.]   # array de n'importe quoi       Array{Any,1}"
   ]
  },
  {
   "cell_type": "markdown",
   "metadata": {},
   "source": [
    "Création d'arrays en imposant les types:"
   ]
  },
  {
   "cell_type": "code",
   "execution_count": null,
   "metadata": {},
   "outputs": [],
   "source": [
    "x    = Array{Any}(3)    # un tableau de 3 termes de tout type\n",
    "x[1] = 1 \n",
    "x[2] = 'a'\n",
    "Float64[1, 2, 3, 4]     # un tableau de réels contenant 1.0, 2.0 etc\n",
    "y    = Array{Int}(3)\n",
    "y[1] = 2.2              # ERREUR\n",
    "z    = Float16[]        # idem à Array{Float16}()"
   ]
  },
  {
   "cell_type": "markdown",
   "metadata": {},
   "source": [
    "Création d'arrays pré-remplis:"
   ]
  },
  {
   "cell_type": "code",
   "execution_count": null,
   "metadata": {},
   "outputs": [],
   "source": [
    "x = (rand(2),           # un array 2x1 de nombres aléatoires U[0,1]\n",
    "    ones(2,3),          # un array 2x3 de 1\n",
    "    zeros(2,3),         # idem mais avec des 0\n",
    "    eye(2))             # matrice identité 2x2\n",
    "for i in x\n",
    "    println(typeof(i), \"  \",i)\n",
    "end"
   ]
  },
  {
   "cell_type": "markdown",
   "metadata": {},
   "source": [
    "Création d'arrays sous forme Vecteurs et matrices:"
   ]
  },
  {
   "cell_type": "code",
   "execution_count": null,
   "metadata": {},
   "outputs": [],
   "source": [
    "Vector(5)\n",
    "Matrix(5, 5)"
   ]
  },
  {
   "cell_type": "markdown",
   "metadata": {},
   "source": [
    "#### Création d'arrays par compréhension et filtres"
   ]
  },
  {
   "cell_type": "code",
   "execution_count": null,
   "metadata": {},
   "outputs": [],
   "source": [
    "[x^2 for x in 1:4]\n",
    "f(x) = sin(3x+1)*exp(2x)\n",
    "[f(x) for x in 1:4]\n",
    "filter(isodd, 1:10)    # => [1,3,5,7,9]\n",
    "g(x) = 3 <= x*x <= 30 \n",
    "filter(g, 1:100) ;     # => [2,3,4,5]"
   ]
  },
  {
   "cell_type": "markdown",
   "metadata": {},
   "source": [
    "#### Slicing\n",
    "\n",
    "Le **slicing** à l'aide de `Range`:"
   ]
  },
  {
   "cell_type": "code",
   "execution_count": null,
   "metadata": {},
   "outputs": [],
   "source": [
    "x = ['a', 'b', 'c', 'd', 'e', 'f']\n",
    "x[1]         # => 'a'\n",
    "x[end]       # => 'f'\n",
    "x[1:2:end] ; # => ['a', 'c', 'e']"
   ]
  },
  {
   "cell_type": "markdown",
   "metadata": {},
   "source": [
    "#### Opérations sur les array\n",
    "\n",
    "deux fonctions de tri qui modifient ou non le tableau en place"
   ]
  },
  {
   "cell_type": "markdown",
   "metadata": {},
   "source": [
    "certaines opérations **modifient en place** les tableaux, le nom de ces opérations se termine par \"!\":"
   ]
  },
  {
   "cell_type": "code",
   "execution_count": null,
   "metadata": {},
   "outputs": [],
   "source": [
    "x = [2, 1, 3]\n",
    "sort(x)   # => [1,2,3] et x est [2,1,3]\n",
    "sort!(x) ;# => [1,2,3] et x est [1,2,3]"
   ]
  },
  {
   "cell_type": "code",
   "execution_count": null,
   "metadata": {},
   "outputs": [],
   "source": [
    "x = [1, 2, 3]\n",
    "pop!(x)             # rend le dernier terme de x     et modifie x qui est [1, 2]\n",
    "pop!(x)             # rend le dernier terme de x     et modifie x qui est [1]\n",
    "push!(x,2)          # rajoute un terme à la fin de x et modifie x qui est [1, 2]\n",
    "push!(x,3) ;        # rajoute un terme à la fin de x et modifie x qui est [1, 2, 3]"
   ]
  },
  {
   "cell_type": "markdown",
   "metadata": {},
   "source": [
    "**Broadcasting**: *Broadcaster une fonction sur un array* signifie appliquer une même fonction `fonction` à tous les éléments d'un array `tableau`:\n",
    "```\n",
    "   fonction.(tableau)\n",
    "```"
   ]
  },
  {
   "cell_type": "code",
   "execution_count": null,
   "metadata": {
    "scrolled": true
   },
   "outputs": [],
   "source": [
    "x = π*(0:0.5:2)  # de 0 à 2π par pas de π/2\n",
    "x = cos.(x)      # dispatch de cosinus sur x\n",
    "round.(x,1)      # dispatch de round sur x"
   ]
  },
  {
   "cell_type": "markdown",
   "metadata": {},
   "source": [
    "Définir des **fonctions sur les arrays** à l'aide du broadcast:"
   ]
  },
  {
   "cell_type": "code",
   "execution_count": null,
   "metadata": {},
   "outputs": [],
   "source": [
    "f(x) = sin.(x.^2+1)    # 1) f s'applique à des array\n",
    "r1 = f(1:5)            #    on applique f à un range (un array)\n",
    "g(x) =  sin(x^2+1)     # 2) g s'applique à des nombres\n",
    "r2 = g.(1:5)           #    on broadcaste g sur un array\n",
    "h(x) = sin.(x.^2+1)    # 3) ça marche aussi \n",
    "r3 = h.(1:5)           #    même si c'est plus curieux\n",
    "r1 == r2 == r3         # => true  (tous des Array{Float64,1})"
   ]
  },
  {
   "cell_type": "markdown",
   "metadata": {},
   "source": [
    "#### Les arrays sont **mutables**"
   ]
  },
  {
   "cell_type": "code",
   "execution_count": null,
   "metadata": {},
   "outputs": [],
   "source": [
    "x    = [1, 2, 3]\n",
    "y    = x\n",
    "y[1] = 0     # modifie aussi x\n",
    "x    "
   ]
  },
  {
   "cell_type": "markdown",
   "metadata": {},
   "source": [
    "### C. `Tuple`- tuples\n",
    "\n",
    "Un `tuple` est une séquence ordonnée d'éléments, comme un array. Un tuple est représenté par des **parenthèses** et des virgules, plutôt que par les crochets utilisés par les tableaux. Les tuples servent pour les petites collections de longueur fixe. Ils sont utilisés partout dans Julia, par exemple comme des listes d'arguments et pour renvoyer plusieurs valeurs de fonctions.\n",
    "\n",
    "Contrairement aux arrays, les **tuples sont immuables**, mais ils partagent de nombreuses fonctions:"
   ]
  },
  {
   "cell_type": "code",
   "execution_count": null,
   "metadata": {},
   "outputs": [],
   "source": [
    "a = (1,2,3)\n",
    "a[1]\n",
    "a[1] = 2"
   ]
  },
  {
   "cell_type": "code",
   "execution_count": null,
   "metadata": {},
   "outputs": [],
   "source": [
    "mon_tuple = ()      # tuple vide\n",
    "mon_tuple = (1,)    # tuple à 1 seul élement != (1)\n",
    "mon_tuple = (1,2,3) \n",
    "mon_tuple[1:2]      # => (1,2) slicing\n",
    "in(2,mon_tuple) ;   # => true"
   ]
  },
  {
   "cell_type": "markdown",
   "metadata": {},
   "source": [
    "**Packing/unpacking**"
   ]
  },
  {
   "cell_type": "code",
   "execution_count": null,
   "metadata": {},
   "outputs": [],
   "source": [
    "mon_tuple = 1,2,3   # idem (permet de faire du \"packing\")\n",
    "a,b,c = mon_tuple   # unpacking"
   ]
  },
  {
   "cell_type": "markdown",
   "metadata": {},
   "source": [
    "**intervertir deux valeurs**:"
   ]
  },
  {
   "cell_type": "code",
   "execution_count": null,
   "metadata": {},
   "outputs": [],
   "source": [
    "x, y = 1, 2\n",
    "x, y = y, x         # intervertir deux valeurs"
   ]
  },
  {
   "cell_type": "markdown",
   "metadata": {},
   "source": [
    "### D. `Dict` - dictionnaires\n",
    " \n",
    " Ce sont des conteneurs **non ordonnés** (donc non indicés). "
   ]
  },
  {
   "cell_type": "markdown",
   "metadata": {},
   "source": [
    "#### Dictionnaires\n",
    "\n",
    "Les dictionnaires sont des collections associatives de couples clés/valeurs.\n",
    "\n",
    "Les clés sont uniques: elles peuvent être de type `String`, `Int` ou des [`Symbol`](https://docs.julialang.org/en/stable/manual/metaprogramming/#Symbols-1)."
   ]
  },
  {
   "cell_type": "code",
   "execution_count": null,
   "metadata": {},
   "outputs": [],
   "source": [
    "dico = Dict()  # dictionnaire vide Dict{Any,Any} with 0 entries\n",
    "dico = Dict(\"un\"=> 1, \"deux\"=> 2, \"trois\"=> 3)\n",
    "dico[\"un\"]           # => 1\n",
    "dico[\"quatre\"] = 4 ; # => ajout d'un couple clé/valeur"
   ]
  },
  {
   "cell_type": "markdown",
   "metadata": {},
   "source": [
    "L'opérateur `=>` est appelé la `Pair()`. Si vous connaissez le type de votre dictionnaire, vous pouvez le spécifier à l'avance:"
   ]
  },
  {
   "cell_type": "code",
   "execution_count": null,
   "metadata": {},
   "outputs": [],
   "source": [
    "dico = Dict{String,Integer}(\"un\"=> 1, \"deux\"=> 2, \"trois\"=> 3)"
   ]
  },
  {
   "cell_type": "code",
   "execution_count": null,
   "metadata": {},
   "outputs": [],
   "source": [
    "a = keys(dico)   # => les clés sous forme de KeyIterator\n",
    "b = values(dico) # => les valeurs sous forme de ValueIterator\n",
    "for (clé, valeur) in dico\n",
    "    println(lpad(clé,6), \" ==> \", valeur)\n",
    "end"
   ]
  },
  {
   "cell_type": "code",
   "execution_count": null,
   "metadata": {},
   "outputs": [],
   "source": [
    "for (clé, valeur) in sort(collect(dico), by=x->x[1])\n",
    "    println(lpad(clé,6), \" ==> \", valeur)\n",
    "end"
   ]
  },
  {
   "cell_type": "code",
   "execution_count": null,
   "metadata": {},
   "outputs": [],
   "source": [
    "for (clé, valeur) in sort(collect(dico), by=x->x[2])\n",
    "    println(lpad(clé,6), \" ==> \", valeur)\n",
    "end"
   ]
  },
  {
   "cell_type": "code",
   "execution_count": null,
   "metadata": {},
   "outputs": [],
   "source": [
    "haskey(dico,\"un\")       # => true\n",
    "get(dico,\"zéro\",\"zéro n'est pas une entrée de dico\") # => \"zéro n'est pas une entrée de dico\"\n",
    "delete!(dico, \"trois\") # supprimme en place (\"trois\",3)"
   ]
  },
  {
   "cell_type": "markdown",
   "metadata": {},
   "source": [
    "### E. `Set` - ensemble\n",
    "\n",
    "Ce sont des conteneurs non ordonnés\n",
    "\n",
    "```\n",
    " Set(itérable)\n",
    "```"
   ]
  },
  {
   "cell_type": "code",
   "execution_count": null,
   "metadata": {},
   "outputs": [],
   "source": [
    "Set(1:3)           # à partir d'un Range\n",
    "Set(('a','b','c')) # à partir d'un tuple\n",
    "Set([1:3;]) ;      # à partir d'un array"
   ]
  },
  {
   "cell_type": "code",
   "execution_count": null,
   "metadata": {},
   "outputs": [],
   "source": [
    "Set()                 # ensemble vide\n",
    "primes = Set{Int64}();# ensemble d'entiers vide"
   ]
  },
  {
   "cell_type": "code",
   "execution_count": null,
   "metadata": {},
   "outputs": [],
   "source": [
    "ensemble = Set([1,2,2,\"bleu\",2//3]) \n",
    "in(1,ensemble)  # => true\n",
    "∈(1,ensemble) ; # idem"
   ]
  },
  {
   "cell_type": "code",
   "execution_count": null,
   "metadata": {},
   "outputs": [],
   "source": [
    "ens1 = Set([1,2,6])\n",
    "ens2 = Set([1,2,3])\n",
    "intersect(ens1,ens2)         # => Set([2, 1])\n",
    "union(ens1,ens2)             # => Set([2, 3, 6, 1])\n",
    "union!(ens1,3:4)             # union EN PLACE avec un itérable\n",
    "ens1 == Set([4, 2, 3, 6, 1]);# => true"
   ]
  },
  {
   "cell_type": "markdown",
   "metadata": {},
   "source": [
    "---\n",
    "## 7. Structures de commandes et fonctions"
   ]
  },
  {
   "cell_type": "markdown",
   "metadata": {},
   "source": [
    "\n",
    "### A. Instructions composées\n",
    "\n",
    "```\n",
    "   <var> = (suite instructions)\n",
    "```\n",
    "effectue la suite d'instructions et affecte le résultat de la dernière à `<var>`"
   ]
  },
  {
   "cell_type": "code",
   "execution_count": null,
   "metadata": {},
   "outputs": [],
   "source": [
    "z = begin\n",
    "    x = 1\n",
    "    y = 2\n",
    "    x + y\n",
    "end\n",
    "z = (x = 1; y = 2; x + y)"
   ]
  },
  {
   "cell_type": "markdown",
   "metadata": {},
   "source": [
    "cette dernière syntaxe est très pratique avec le forme concise de définition de fonctions (cf. infra)."
   ]
  },
  {
   "cell_type": "markdown",
   "metadata": {},
   "source": [
    "### B. Boucles `for` et  `while`"
   ]
  },
  {
   "cell_type": "markdown",
   "metadata": {},
   "source": [
    "### C. Instructions conditionnelles\n",
    "\n",
    "```\n",
    "  if <condition 1>\n",
    "      <instructions 1>\n",
    "  elseif <condition 2>\n",
    "      <instructions 2>\n",
    "  else\n",
    "      <instructions 2>\n",
    "```\n"
   ]
  },
  {
   "cell_type": "code",
   "execution_count": null,
   "metadata": {},
   "outputs": [],
   "source": [
    "x, y = 1, 2\n",
    "if x < y\n",
    "    println(\"x est inférieur à y\")\n",
    "elseif x > y\n",
    "    println(\"x est supérieur à y\")\n",
    "else\n",
    "    println(\"x est égal à y\")\n",
    "end"
   ]
  },
  {
   "cell_type": "markdown",
   "metadata": {},
   "source": [
    "#### Opérateur ternaire\n",
    "```\n",
    "   <condition> ? <instructions 1> : <instructions 2>\n",
    "```\n"
   ]
  },
  {
   "cell_type": "code",
   "execution_count": null,
   "metadata": {},
   "outputs": [],
   "source": [
    "1==2 ? \"c'est vrai\" : \"c'est faux\"  # => \"c'est faux\"\n",
    "x = %(6,3)\n",
    "réponse = \"6 \"*( x==0 ? \"divisible\" : \"pas divisible\")*\" par 3\""
   ]
  },
  {
   "cell_type": "markdown",
   "metadata": {},
   "source": [
    "### D. Gestion des exceptions\n",
    "\n",
    "Sans entrées dans les détails, on peut déjà introduire:"
   ]
  },
  {
   "cell_type": "code",
   "execution_count": null,
   "metadata": {},
   "outputs": [],
   "source": [
    "try\n",
    "    sqrt(-1)\n",
    "catch\n",
    "    println(\"-1 n'a pas de racine réelle\")\n",
    "end"
   ]
  },
  {
   "cell_type": "markdown",
   "metadata": {},
   "source": [
    "### D. Fonctions\n",
    "\n",
    "```\n",
    "   function <nom de fonction>(arguments)\n",
    "      instructions\n",
    "   end\n",
    "```\n",
    "l'appel à `<nom de fonction>` renvoie le résultat de la dernière instructions (sauf mention contraire via `return`)."
   ]
  },
  {
   "cell_type": "code",
   "execution_count": null,
   "metadata": {},
   "outputs": [],
   "source": [
    "function f(x)\n",
    "    x^2 + 2x - 1\n",
    "end"
   ]
  },
  {
   "cell_type": "code",
   "execution_count": null,
   "metadata": {},
   "outputs": [],
   "source": [
    "f(x)   = x^2 + 2x - 1            # version concise\n",
    "ρ(x)   = (α=1; β=2; α*x+ β*x*x)  # avec un compound  \n",
    "ρ(x,y) = x+y"
   ]
  },
  {
   "cell_type": "markdown",
   "metadata": {},
   "source": [
    "notez la réponse : ρ a deux méthodes:"
   ]
  },
  {
   "cell_type": "code",
   "execution_count": null,
   "metadata": {},
   "outputs": [],
   "source": [
    "methods(ρ)"
   ]
  },
  {
   "cell_type": "code",
   "execution_count": null,
   "metadata": {},
   "outputs": [],
   "source": [
    "ρ(1,2), ρ(2)  # deux fonctions ρ (attention !)"
   ]
  },
  {
   "cell_type": "markdown",
   "metadata": {},
   "source": [
    "#### Instruction `return`"
   ]
  },
  {
   "cell_type": "code",
   "execution_count": null,
   "metadata": {},
   "outputs": [],
   "source": [
    "function f(x)\n",
    "    return x+1    # c'est cette valeur qui est rendue\n",
    "    x^2 + 2x - 1  \n",
    "end\n",
    "f(1)"
   ]
  },
  {
   "cell_type": "code",
   "execution_count": null,
   "metadata": {},
   "outputs": [],
   "source": [
    "x -> x^2 + 2x - 1                # fonction anonyme\n",
    "map(x -> x^2 + 2x - 1, [1,3,-1]);# => [2, 14, -2]"
   ]
  },
  {
   "cell_type": "code",
   "execution_count": null,
   "metadata": {},
   "outputs": [],
   "source": [
    "function (x)\n",
    "    x^2 + 2x - 1\n",
    "end"
   ]
  },
  {
   "cell_type": "code",
   "execution_count": null,
   "metadata": {},
   "outputs": [],
   "source": [
    "ans(2) # un peu comique :-)"
   ]
  },
  {
   "cell_type": "markdown",
   "metadata": {},
   "source": [
    "## Fonctions"
   ]
  },
  {
   "cell_type": "code",
   "execution_count": null,
   "metadata": {},
   "outputs": [],
   "source": [
    "fonction1(x) = cos.(0.01x.^2)+x.*(3-x)+1    # on veut l'utiliser sur des array\n",
    "fonction2 = x -> cos.(0.01x.^2)+x.*(3-x)+1 # version anonyme"
   ]
  },
  {
   "cell_type": "code",
   "execution_count": null,
   "metadata": {},
   "outputs": [],
   "source": [
    "a = [1:5;]\n",
    "fonction1(a) == fonction2(a)"
   ]
  },
  {
   "cell_type": "markdown",
   "metadata": {},
   "source": [
    "----\n",
    "## 8. Quelques outils"
   ]
  },
  {
   "cell_type": "markdown",
   "metadata": {},
   "source": [
    "### A. Macro `@time`\n",
    "\n",
    "On peut utiliser la macro prédéfinie \n",
    "```julia\n",
    "   @time  <instructions> \n",
    "```"
   ]
  },
  {
   "cell_type": "code",
   "execution_count": 19,
   "metadata": {},
   "outputs": [
    {
     "name": "stdout",
     "output_type": "stream",
     "text": [
      "  1.240256 seconds (1.42 k allocations: 1.490 GiB, 0.23% gc time)\n",
      "  1.087214 seconds (22.94 k allocations: 1.491 GiB, 0.23% gc time)\n",
      "  1.233564 seconds (22.91 k allocations: 1.491 GiB, 8.37% gc time)\n",
      "  1.424550 seconds (8.54 k allocations: 1.491 GiB, 19.78% gc time)\n"
     ]
    }
   ],
   "source": [
    "function f1(x)\n",
    "    y = ones(x)\n",
    "    for i = 1:length(x)\n",
    "        y[i] = x[i]^2\n",
    "    end\n",
    "    return y\n",
    "end\n",
    "f2(x) = x.^2\n",
    "f3(x) = x.*x\n",
    "\n",
    "x = rand(200000000,1);\n",
    "@time f1(x)\n",
    "@time f2(x)\n",
    "@time f3(x)\n",
    "@time [i*i for i in x];"
   ]
  },
  {
   "cell_type": "markdown",
   "metadata": {},
   "source": [
    "ou bien le couple de fonctions:"
   ]
  },
  {
   "cell_type": "code",
   "execution_count": 20,
   "metadata": {},
   "outputs": [
    {
     "name": "stdout",
     "output_type": "stream",
     "text": [
      "elapsed time: 0.000151564 seconds\n"
     ]
    },
    {
     "data": {
      "text/plain": [
       "0.000151564"
      ]
     },
     "execution_count": 20,
     "metadata": {},
     "output_type": "execute_result"
    }
   ],
   "source": [
    "tic()\n",
    "7^10000000\n",
    "toc() "
   ]
  },
  {
   "cell_type": "markdown",
   "metadata": {},
   "source": [
    "### B. Macro `@show`\n",
    "\n",
    "Affiche une expression et son résultat"
   ]
  },
  {
   "cell_type": "code",
   "execution_count": 21,
   "metadata": {},
   "outputs": [
    {
     "name": "stdout",
     "output_type": "stream",
     "text": [
      "(i, typeof(i)) = (\"ab\", String)\n",
      "(i, typeof(i)) = (1, Int64)\n",
      "(i, typeof(i)) = (cos, Base.#cos)\n"
     ]
    }
   ],
   "source": [
    "for i in [\"ab\", 1, cos]\n",
    "    @show i, typeof(i)\n",
    "end"
   ]
  },
  {
   "cell_type": "markdown",
   "metadata": {},
   "source": [
    "----\n",
    "## 9. Exemples"
   ]
  },
  {
   "cell_type": "markdown",
   "metadata": {},
   "source": [
    "### A. Equation du second degré"
   ]
  },
  {
   "cell_type": "code",
   "execution_count": null,
   "metadata": {},
   "outputs": [],
   "source": [
    "\"\"\"\n",
    "La fonction équation_second_degré calcul l'ensemble des **racines réelles** d'un \n",
    "polynôme du second degré.\n",
    "\n",
    "   - Entrée: coefficients a,b,c de ax^2+bx+c \n",
    "   - Sortie: ensemble des solutions réelles\n",
    "#### Exemple\n",
    "```julia-repl\n",
    "julia> équation_second_degré(1,3,0.1)\n",
    "Set([-1.53371, -4.46629])\n",
    "```    \n",
    "\"\"\"\n",
    "function équation_second_degré(a,b,c)\n",
    "    Δ = b^2 - 4*a*c         # enfin un déterminant qui s'appelle Δ\n",
    "    if Δ < 0\n",
    "        return Set()        # pas de racines réelles\n",
    "    elseif a==0\n",
    "        return Set([-c/b])  # 1 seule racine réelle\n",
    "    else\n",
    "        return Set(-b+[+1,-1]*sqrt(Δ)./2a) # pas très beau :-(\n",
    "    end\n",
    "end"
   ]
  },
  {
   "cell_type": "markdown",
   "metadata": {},
   "source": [
    "La chaîne de caractères au dessus de la définition de la fonction sert à documenter la fonction, elle est appelée **docstring** (notez qu'elle utilise une syntaxe markdown) (voir [ici](https://docs.julialang.org/en/stable/manual/documentation/)):"
   ]
  },
  {
   "cell_type": "code",
   "execution_count": null,
   "metadata": {},
   "outputs": [],
   "source": [
    "?équation_second_degré"
   ]
  },
  {
   "cell_type": "code",
   "execution_count": null,
   "metadata": {},
   "outputs": [],
   "source": [
    "try\n",
    "    println(\"entrez a,b,c :\")\n",
    "    a, b, c = parse.(Float64,split(readline(),\",\")) # AFFREUX NON ?\n",
    "    équation_second_degré(a,b,c)\n",
    "catch \n",
    "    println(\"erreur dans les entrées\")\n",
    "end"
   ]
  },
  {
   "cell_type": "markdown",
   "metadata": {},
   "source": [
    "On décompose `parse.(Float64,split(readline(),\",\"))` :"
   ]
  },
  {
   "cell_type": "code",
   "execution_count": null,
   "metadata": {},
   "outputs": [],
   "source": [
    "x = \"1,2.3,1e-2\"    # lit une ligne à l'aide de readline()\n",
    "x = split(x,\",\")    # on éclate le résultat, on obtient des chaines de caractères\n",
    "parse.(Float64,x)   # on broadcast la fonction parse\n",
    "parse.([Float64],x);# on voit cela aussi"
   ]
  },
  {
   "cell_type": "markdown",
   "metadata": {},
   "source": [
    "### B. Méthode de la dichotomie\n",
    "\n",
    "La [méthode de la dichotomie](https://fr.wikipedia.org/wiki/Méthode_de_dichotomie) est un [algorithme de recherche d'un zéro d'une fonction](https://fr.wikipedia.org/wiki/Algorithme_de_recherche_d%27un_zéro_d%27une_fonction)."
   ]
  },
  {
   "cell_type": "code",
   "execution_count": null,
   "metadata": {},
   "outputs": [],
   "source": [
    "function dichotomie( f::Function, a, b; itémax=500, tolérance=1e-8)  # le premier argument sera une fonction\n",
    "    \n",
    "    fa, fb = f(a), f(b)\n",
    "    fa*fb > 0 ? error(\"f(a) et f(b) doivent être de signe différent\") : nothing\n",
    "\n",
    "    for i in 1:itémax\n",
    "        m  = (a+b)/2\n",
    "        fm = f(m)\n",
    "        \n",
    "        abs(fm) > tolérance ? nothing : return(m,fm)\n",
    "        \n",
    "        if fa*fm > 0\n",
    "            a, fa = m, fm\n",
    "        else\n",
    "            b, fb = m, fm\n",
    "        end\n",
    "    end\n",
    "   \n",
    "    error(\"Pas de convergence en $itémax itérations\")\n",
    "\n",
    "end"
   ]
  },
  {
   "cell_type": "code",
   "execution_count": null,
   "metadata": {},
   "outputs": [],
   "source": [
    "f(x) = cos.(0.01x.^2)+x.*(3-x)+1    # on veut l'utiliser sur des array\n",
    "ff = x -> cos.(0.01x.^2)+x.*(3-x)+1;# style anonymous"
   ]
  },
  {
   "cell_type": "code",
   "execution_count": null,
   "metadata": {},
   "outputs": [],
   "source": [
    "println(dichotomie(f,0,10))\n",
    "println(dichotomie(ff,0,10)) # même chose"
   ]
  },
  {
   "cell_type": "markdown",
   "metadata": {},
   "source": [
    "Un peu de graphique à du package `Plots`:"
   ]
  },
  {
   "cell_type": "code",
   "execution_count": null,
   "metadata": {},
   "outputs": [],
   "source": [
    "# Pkg.add(\"Plots\") # si ce n'est déjà fait\n",
    "using Plots"
   ]
  },
  {
   "cell_type": "code",
   "execution_count": null,
   "metadata": {},
   "outputs": [],
   "source": [
    "a, b = 0, 5\n",
    "solution, fsolution = dichotomie(f,a,b)\n",
    "x = a:0.01:b\n",
    "plot(x,f(x),label=\"fonction f\")                  # tracé de f\n",
    "scatter!((solution, fsolution),label=\"solution\") # rajoute un point"
   ]
  },
  {
   "cell_type": "markdown",
   "metadata": {},
   "source": [
    "### C. Manipulation de matrices"
   ]
  },
  {
   "cell_type": "markdown",
   "metadata": {},
   "source": [
    "#### Arrays, matrices et vecteurs"
   ]
  },
  {
   "cell_type": "code",
   "execution_count": null,
   "metadata": {},
   "outputs": [],
   "source": [
    "Array{Float64, 1} == Vector{Float64}  # => true\n",
    "Array{Float64, 2} == Matrix{Float64}  # => true\n",
    "Array{Float64, 1} == Matrix{Float64}  # => false\n",
    "Array{Float64, 3} == Matrix{Float64}  # => false\n",
    "\n",
    "println(rpad(\"objet\",15),rpad(\"nb de dims\",15),rpad(\"dimensions\",15),rpad(\"type\",15))\n",
    "for i in [Vector([1,2]),\n",
    "        [1,2],\n",
    "        [1,2]',\n",
    "        [1 2],\n",
    "        [1;2],\n",
    "        Matrix([1 2;3 4]),\n",
    "        Array([1 2;3 4])]\n",
    "    println(rpad(i,15),rpad(ndims(i),15),rpad(size(i),15),rpad(typeof(i),15))\n",
    "end"
   ]
  },
  {
   "cell_type": "markdown",
   "metadata": {},
   "source": [
    "Avec la macros `@show` qui affiche l'expression et son résultat (très utile pour le débbogage):"
   ]
  },
  {
   "cell_type": "code",
   "execution_count": null,
   "metadata": {},
   "outputs": [],
   "source": [
    "for x in [[1  2; 3  4],\n",
    "        [1  2  3  4],\n",
    "        [1; 2; 3; 4],\n",
    "        [1  2  3  4]']\n",
    "    @show x, size(x)\n",
    "end"
   ]
  },
  {
   "cell_type": "markdown",
   "metadata": {},
   "source": [
    "#### Constructeurs:"
   ]
  },
  {
   "cell_type": "code",
   "execution_count": null,
   "metadata": {},
   "outputs": [],
   "source": [
    "x = [1,2,3,4,5]     # vecteur colonne\n",
    "y = [1 2 3 4 5]     # vecteur ligne\n",
    "z = y'             ;# transposé"
   ]
  },
  {
   "cell_type": "markdown",
   "metadata": {},
   "source": [
    "légère différence entre `z` qui est un array de dimension 5x1 et `x` qui est un vecteur (colonne) de dimension 5."
   ]
  },
  {
   "cell_type": "code",
   "execution_count": null,
   "metadata": {},
   "outputs": [],
   "source": [
    "# --- matrices de dimensions quelconques\n",
    "\n",
    "matrice = rand(4,3)\n",
    "zeros(matrice)   # matrice de 0 de la même forme que x\n",
    "ones(matrice)    # matrice de 1 de la même forme que x\n",
    "ones(2,2)        # matrice 2x2 remplie de 1\n",
    "\n",
    "dims = (2,2)\n",
    "fill(4,dims)     # matrice 3x3 remplie de 4\n",
    "reshape(1:4,2,2) # matrice 2x2\n",
    "diagm([2, 4])    # matrice diagonale\n",
    "\n",
    "x = Vector(3)    # création d'un vecteur\n",
    "fill!(x,π)       # remplissage en place de π\n",
    "\n",
    "# --- matrices carrées\n",
    "\n",
    "eye(7);          # matrice unité de dimension 7x7"
   ]
  },
  {
   "cell_type": "markdown",
   "metadata": {},
   "source": [
    "#### Ce sont des objets mutables\n",
    "\n",
    "Les matrices/vecteurs/arrays sont des objet mutable, donc ne pas confondre affectation et copie.\n",
    "Par ailleurs on ne parle ici que de matrices/vecteurs/arrays de nombres et non pas de arrays de arrays, donc la copie superficielle `copy` est suffisante."
   ]
  },
  {
   "cell_type": "code",
   "execution_count": null,
   "metadata": {},
   "outputs": [],
   "source": [
    "M = ones(3,2)\n",
    "P = M            # affectation d'une autre variable au même objet\n",
    "P[1,1] = 0       # M est affecté\n",
    "println(P == M)  # => true\n",
    "M = ones(3,2)\n",
    "P = copy(M)      # créationn d'une copie de P\n",
    "P[1,1] = 0       # M n'est pas affecté\n",
    "println(P == M)  # => false"
   ]
  },
  {
   "cell_type": "markdown",
   "metadata": {},
   "source": [
    "#### Réduction, reshape"
   ]
  },
  {
   "cell_type": "code",
   "execution_count": null,
   "metadata": {},
   "outputs": [],
   "source": [
    "\"\"\"\n",
    "Une matrice 3x4 constituées de nombres pseudo-aléatoires\n",
    "de loi gaussienne N(0,1)\n",
    "\"\"\"\n",
    "A = randn(3,4)   # matrice A_ij\n",
    "\n",
    "# --- reshape\n",
    "reshape(A,(6,2))  # dim 6x2\n",
    "\n",
    "# --- lignes/colonnes\n",
    "A[1,:]      # première ligne (sous forme de vecteur)\n",
    "A[:,2]      # deuxième colonne\n",
    "\n",
    "# --- réduction\n",
    "sum(A,1)    # dim 1x4   somme sur i\n",
    "sum(A,2)    # dim 3x1   somme sur j\n",
    "cumsum(A,1) # dim 1x4 somme cumulée sur i\n",
    "mean(A,1)   # dim 1x4   moyenne sur i\n",
    "std(A,1)    # dim 1x4   écart type sur i\n",
    "\n",
    "A .< 0      # comparaison terme à terme\n",
    "C = A[A.<0] # termes de A qui sont négatifs\n",
    "size(C)     # unidimensionnel"
   ]
  },
  {
   "cell_type": "markdown",
   "metadata": {},
   "source": [
    "#### Opérations"
   ]
  },
  {
   "cell_type": "code",
   "execution_count": null,
   "metadata": {},
   "outputs": [],
   "source": [
    "# --- vecteurs\n",
    "a1  = rand(3,1)\n",
    "a2  = rand(3,1)\n",
    "b1  = rand(4,1)\n",
    "\n",
    "a1' *  a2    # dim 1   produit scalaire de b et c (transposée de b fois x)\n",
    "a1  *  b1'   # dim 3x4 produit tensoriel de b par c\n",
    "a1 .*  a2    # dim 3   produit terme à terme\n",
    "2   *  a2    # dim 3   comme 2.*b\n",
    "\n",
    "# --- matrices de dimensions quelconques\n",
    "A1 = rand(2,3)\n",
    "A2 = rand(2,3)\n",
    "B1 = rand(3,4)\n",
    "\n",
    "A1 +  A2     # dim 2x3   somme de matrices (comme A1 .+ A1)\n",
    "A1 *  B1     # dim 2x4   produit de matrices\n",
    "A1 .^ 2      # dim 2x3   carré terme à terme\n",
    "A1 .< A2     # dim 2x3   comparaison terme à terme\n",
    "\n",
    "# --- matrices carrés\n",
    "A_carré = rand(3,3)\n",
    "\n",
    "A_carré^2    # matrice A_carré * A_carré"
   ]
  },
  {
   "cell_type": "markdown",
   "metadata": {},
   "source": [
    "#### Algèbre linéaire\n",
    "\n",
    "Résolution de systèmes linéaires: pour des matrices quelconques `A\\b` calcul la solution du systèmes linéaire `A*x=b` par factoriztaion LU:"
   ]
  },
  {
   "cell_type": "code",
   "execution_count": null,
   "metadata": {},
   "outputs": [],
   "source": [
    "A = rand(3,3)\n",
    "b = rand(3,1)\n",
    "println(\"déterminant      : \",det(A))\n",
    "B = inv(A) # inversion de A\n",
    "x = A\\b    # résilution de A x = b\n",
    "println(\"inversion        : erreur L² = \",norm(A*B-eye(3)))\n",
    "println(\"système linéaire : erreur L² = \",norm(A*x-b))"
   ]
  },
  {
   "cell_type": "code",
   "execution_count": null,
   "metadata": {},
   "outputs": [],
   "source": [
    "trace(A)    # trace\n",
    "rank(A)     # rang\n",
    "inv(A)      # inverse\n",
    "eigvals(A)  # valeurs propres\n",
    "A'          # transpose\n",
    "norm(A)     # norme L²"
   ]
  }
 ],
 "metadata": {
  "kernelspec": {
   "display_name": "Julia 0.6.2",
   "language": "julia",
   "name": "julia-0.6"
  },
  "language_info": {
   "file_extension": ".jl",
   "mimetype": "application/julia",
   "name": "julia",
   "version": "0.6.2"
  },
  "latex_envs": {
   "LaTeX_envs_menu_present": true,
   "autoclose": false,
   "autocomplete": true,
   "bibliofile": "biblio.bib",
   "cite_by": "apalike",
   "current_citInitial": 1,
   "eqLabelWithNumbers": true,
   "eqNumInitial": 1,
   "hotkeys": {
    "equation": "Ctrl-E",
    "itemize": "Ctrl-I"
   },
   "labels_anchors": false,
   "latex_user_defs": false,
   "report_style_numbering": false,
   "user_envs_cfg": false
  }
 },
 "nbformat": 4,
 "nbformat_minor": 2
}
