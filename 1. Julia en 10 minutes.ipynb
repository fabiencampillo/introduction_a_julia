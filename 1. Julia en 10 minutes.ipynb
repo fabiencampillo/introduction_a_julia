{
 "cells": [
  {
   "cell_type": "markdown",
   "metadata": {},
   "source": [
    "# 1. Julia en 10 minutes\n",
    "\n",
    "Point abordés : \n",
    "1. Vos amis \"documentation\" et \"complétion\"\n",
    "1. Noms de variables\n",
    "1. Nombres\n",
    "1. Booléens\n",
    "1. Chaînes de caractères\n",
    "1. Ranges\n",
    "1. Arrays (tableaux)\n",
    "1. Tuples\n",
    "1. Dictionnaires\n",
    "1. Boucles `for`et `while`\n",
    "1. Instructions conditionnelles\n",
    "1. Fonctions\n",
    "1. Exemple 1: sécante\n",
    "1. Exemple 2: manipulation de matrices\n"
   ]
  },
  {
   "cell_type": "markdown",
   "metadata": {},
   "source": [
    "----\n",
    "## 1. Aide, documentation et complétion\n",
    "\n",
    "**Vous ne savez plus ce que la fonction sinus fait ni même comment elle s'écrit ?**  Vous avez alors deux amis: \n",
    "- `?` documentations\n",
    "- `<TAB>` complétion \n",
    "\n",
    "Tappez `?si<TAB>` et les différentes possibilités apparaîtront."
   ]
  },
  {
   "cell_type": "code",
   "execution_count": 9,
   "metadata": {},
   "outputs": [
    {
     "name": "stdout",
     "output_type": "stream",
     "text": [
      "search: \u001b[1ms\u001b[22mub2\u001b[1mi\u001b[22mnd \u001b[1ms\u001b[22m\u001b[1mi\u001b[22mn \u001b[1ms\u001b[22m\u001b[1mi\u001b[22mze \u001b[1ms\u001b[22m\u001b[1mi\u001b[22mnh \u001b[1ms\u001b[22m\u001b[1mi\u001b[22mnd \u001b[1ms\u001b[22m\u001b[1mi\u001b[22mnc \u001b[1ms\u001b[22m\u001b[1mi\u001b[22mgn \u001b[1ms\u001b[22m\u001b[1mi\u001b[22mnpi \u001b[1ms\u001b[22m\u001b[1mi\u001b[22mzeof \u001b[1ms\u001b[22m\u001b[1mi\u001b[22mgnif \u001b[1ms\u001b[22m\u001b[1mi\u001b[22mgned \u001b[1mS\u001b[22m\u001b[1mi\u001b[22mgned\n",
      "\n",
      "Couldn't find \u001b[36msi\n",
      "\u001b[39mPerhaps you meant sin, pi, sign, sinc, sind, sinh, size, asin, skip, sec or std\n"
     ]
    },
    {
     "data": {
      "text/markdown": [
       "No documentation found.\n",
       "\n",
       "Binding `si` does not exist.\n"
      ],
      "text/plain": [
       "No documentation found.\n",
       "\n",
       "Binding `si` does not exist.\n"
      ]
     },
     "execution_count": 9,
     "metadata": {},
     "output_type": "execute_result"
    }
   ],
   "source": [
    "?si      # positionné le curseur après \"?si\" et faite <tab> pour avoir toutes les commandes commençant par \"si\""
   ]
  },
  {
   "cell_type": "markdown",
   "metadata": {},
   "source": [
    "----\n",
    "## 2. Noms de variables\n",
    "\n"
   ]
  },
  {
   "cell_type": "code",
   "execution_count": null,
   "metadata": {},
   "outputs": [],
   "source": [
    "x = 1                   # affecte l'objet entier à la variable x \n",
    "                        #     et affiche le résultats sou le REPL ou sous notebook\n",
    "x = 1 ;                 # affecte l'objet entier à la variable x \n",
    "                        #     et N'AFFICHE PAS le résultat sous le REPL ou sous notebook"
   ]
  },
  {
   "cell_type": "markdown",
   "metadata": {},
   "source": [
    "En Julia les noms de variables sont constitués de caractères UTF-8, cela peut être intéressant:"
   ]
  },
  {
   "cell_type": "code",
   "execution_count": 10,
   "metadata": {},
   "outputs": [
    {
     "data": {
      "text/plain": [
       "true"
      ]
     },
     "execution_count": 10,
     "metadata": {},
     "output_type": "execute_result"
    }
   ],
   "source": [
    "\n",
    "une_variable = \"test\"   # conseil: noms en minuscules avec des underscores\n",
    "itération = 1           # notez l'accent qui est autorisé\n",
    "σ = 1                   # tapper \\sigma   suivi de <tab>    (complétion: tappez \\s: suivi de <tab>)\n",
    "🎱 = 1.                 # tapper \\:8ball: suivi de <tab>    (complétion: tappez \\: suivi de <tab>)\n",
    "σ == 🎱                 # σ et 🎱 sont égaux.... (notez le caractère \"8 ball\" en italique...) "
   ]
  },
  {
   "cell_type": "markdown",
   "metadata": {},
   "source": [
    "----\n",
    "## 3. Nombres\n",
    "\n",
    "Parmi les nombres possibles:"
   ]
  },
  {
   "cell_type": "code",
   "execution_count": 97,
   "metadata": {},
   "outputs": [
    {
     "name": "stdout",
     "output_type": "stream",
     "text": [
      "un nombre rationel : 4//3 de type Rational{Int64}\n"
     ]
    }
   ],
   "source": [
    "8            # nombre entier,     de type Int64 (codé en 64 bits)\n",
    "8.12         # nombre réel,       de type Float64\n",
    "8 + 2im      # nombre complexe,   de type Complex{Int64}   (construit avec des Int64)\n",
    "8. + 2im     # nombre complexe,   de type Complex{Float64} (construit avec des Float64)\n",
    "8//9         # nombre rationnel,  de type Rational{Int64}  (construit avec des Int64)\n",
    "println(\"un nombre rationel : \",4//3, # (on peut couper une ligne de commande en deux)\n",
    "    \" de type \",typeof(3//4))         # println : affiche ses arguments suivis d'un \"\\n\" (new line)\n",
    "                                      # typeof : affiche le type de ses arguments"
   ]
  },
  {
   "cell_type": "markdown",
   "metadata": {},
   "source": [
    "La partie imaginaire est notée `im`, on peut utiliser la notation `8+2im` ou `8+2*im`. On a bien:"
   ]
  },
  {
   "cell_type": "code",
   "execution_count": 11,
   "metadata": {},
   "outputs": [
    {
     "data": {
      "text/plain": [
       "-1 + 0im"
      ]
     },
     "execution_count": 11,
     "metadata": {},
     "output_type": "execute_result"
    }
   ],
   "source": [
    "im^2"
   ]
  },
  {
   "cell_type": "markdown",
   "metadata": {},
   "source": [
    "On dispose des opérations classiques:"
   ]
  },
  {
   "cell_type": "code",
   "execution_count": 12,
   "metadata": {},
   "outputs": [
    {
     "data": {
      "text/plain": [
       "2"
      ]
     },
     "execution_count": 12,
     "metadata": {},
     "output_type": "execute_result"
    }
   ],
   "source": [
    "3 + 1      \n",
    "4 - 3      \n",
    "10 * 2\n",
    "2^3\n",
    "sqrt(3)\n",
    "20/3                    # division \n",
    "20\\3                    # inverse de 20/3, i.e. 3/20            20/3 est 1/(20\\3)\n",
    "div(20,3)               # division tronquée à un entier\n",
    "20%3                    # reste de la division précédente       20 = 3 * div(20,3) + 20%3 "
   ]
  },
  {
   "cell_type": "code",
   "execution_count": 168,
   "metadata": {},
   "outputs": [
    {
     "data": {
      "text/plain": [
       "2.0"
      ]
     },
     "execution_count": 168,
     "metadata": {},
     "output_type": "execute_result"
    }
   ],
   "source": [
    "x = 0.5\n",
    "1 + 2x # notez qu'il n'est pas nécessaire d'écrire 1+2*x\n",
    "       # en revanche 1+x*2 ne peut pas s'écrire 1+x2 "
   ]
  },
  {
   "cell_type": "markdown",
   "metadata": {},
   "source": [
    "----\n",
    "## 4. Booléens"
   ]
  },
  {
   "cell_type": "code",
   "execution_count": 18,
   "metadata": {},
   "outputs": [
    {
     "data": {
      "text/plain": [
       "true"
      ]
     },
     "execution_count": 18,
     "metadata": {},
     "output_type": "execute_result"
    }
   ],
   "source": [
    "true                    # vrai\n",
    "false                   # faux\n",
    "!true                   # faux\n",
    "1 == 1                  # vrai\n",
    "1 != 1                  # faux\n",
    "1 == 1.                 # vrai\n",
    "1 != 2                  # vrai, 1 est différent de 2\n",
    "3 > 7                   # est faux\n",
    "2 >= 2                  # est vrai\n",
    "5 < 7 < 18.\n",
    "true & false            # est faux,  \"et\" logique\n",
    "true | false            # est vrai,  \"ou\" logique\n",
    "true == 1               # ça il sait le faire, il admet que true peut se comprendre comme 1 \n",
    "true == 1. "
   ]
  },
  {
   "cell_type": "code",
   "execution_count": 19,
   "metadata": {},
   "outputs": [
    {
     "data": {
      "text/plain": [
       "true"
      ]
     },
     "execution_count": 19,
     "metadata": {},
     "output_type": "execute_result"
    }
   ],
   "source": [
    "a = 1\n",
    "b = 1.\n",
    "a == b                  # a et b sont égaux comme nombres"
   ]
  },
  {
   "cell_type": "markdown",
   "metadata": {},
   "source": [
    "----\n",
    "## 5. Chaînes de caractères\n",
    "\n"
   ]
  },
  {
   "cell_type": "markdown",
   "metadata": {},
   "source": [
    "Les chaînes de caractères et les caractères ont des syntaxes différentes:"
   ]
  },
  {
   "cell_type": "code",
   "execution_count": 20,
   "metadata": {},
   "outputs": [
    {
     "data": {
      "text/plain": [
       "false"
      ]
     },
     "execution_count": 20,
     "metadata": {},
     "output_type": "execute_result"
    }
   ],
   "source": [
    "x = \"a\"                 # ceci est le chaîne de caractères ne contenat que la lettre 'a'\n",
    "y = 'a'                 # ceci est le caractère 'a' ('aa' n'a pas exemple pas de sens)\n",
    "x == y"
   ]
  },
  {
   "cell_type": "markdown",
   "metadata": {},
   "source": [
    "### Construction des chaînes "
   ]
  },
  {
   "cell_type": "code",
   "execution_count": 112,
   "metadata": {},
   "outputs": [
    {
     "name": "stdout",
     "output_type": "stream",
     "text": [
      "STDIN> dss\n"
     ]
    },
    {
     "data": {
      "text/plain": [
       "\"dss\""
      ]
     },
     "execution_count": 112,
     "metadata": {},
     "output_type": "execute_result"
    }
   ],
   "source": [
    "chaîne = readline()     # lit la ligne suivante (depuis le std input)"
   ]
  },
  {
   "cell_type": "code",
   "execution_count": 123,
   "metadata": {},
   "outputs": [
    {
     "name": "stdout",
     "output_type": "stream",
     "text": [
      "5 est inférieur à 5.800000"
     ]
    }
   ],
   "source": [
    "chaîne  = \"5/2 vaut $(5/2)\"                         # => \"5/2 vaut 2.5\"\n",
    "x, y = 1.2, 2.3\n",
    "chaîne  = \"le résultats est $(x+y)\"                 # => \"le résultats est 3.5\"\n",
    "chaîne  = @printf \"%d est inférieur à %f\" 4.5 5.8   # => \"5 est inférieur à 5.800000\""
   ]
  },
  {
   "cell_type": "code",
   "execution_count": 135,
   "metadata": {},
   "outputs": [
    {
     "data": {
      "text/plain": [
       "true"
      ]
     },
     "execution_count": 135,
     "metadata": {},
     "output_type": "execute_result"
    }
   ],
   "source": [
    "chaîne1 = \"\"\"Une autre possibilité de créer\\n des chaînes de caractères\\n θ 🍺\"\"\"\n",
    "chaîne2 = \"\"\"Une autre possibilité de créer\n",
    "des chaînes de caractères\n",
    "θ 🍺\"\"\"\n",
    "chaîne1 == chaîne2"
   ]
  },
  {
   "cell_type": "code",
   "execution_count": 136,
   "metadata": {},
   "outputs": [
    {
     "name": "stdout",
     "output_type": "stream",
     "text": [
      "Une autre possibilité de créer\n",
      "des chaînes de caractères\n",
      "θ 🍺\n"
     ]
    }
   ],
   "source": [
    "println(chaîne1)        # interprète les caractères spéciaux"
   ]
  },
  {
   "cell_type": "markdown",
   "metadata": {},
   "source": [
    "### Opérations sur les caractères"
   ]
  },
  {
   "cell_type": "code",
   "execution_count": 21,
   "metadata": {},
   "outputs": [
    {
     "data": {
      "text/plain": [
       "true"
      ]
     },
     "execution_count": 21,
     "metadata": {},
     "output_type": "execute_result"
    }
   ],
   "source": [
    "'a' + 1                 # => 'b'\n",
    "'a' * 'a'               # => \"aa\" (chaine de caractères)\n",
    "'b' - 'a'               # => 1 équivalent à Int('b')-Int('a')\n",
    "'z' - 'a'               # => 25\n",
    "'a' < 'b'               # => true\n",
    "'A' < 'a'               # => true"
   ]
  },
  {
   "cell_type": "markdown",
   "metadata": {},
   "source": [
    "### Opération sur les chaînes"
   ]
  },
  {
   "cell_type": "code",
   "execution_count": 25,
   "metadata": {},
   "outputs": [
    {
     "data": {
      "text/plain": [
       "\"123456\""
      ]
     },
     "execution_count": 25,
     "metadata": {},
     "output_type": "execute_result"
    }
   ],
   "source": [
    "\"bière\" < \"theta\"       # => true\n",
    "\"123\" * \"456\"           # => \"123456\" (concaténation)"
   ]
  },
  {
   "cell_type": "code",
   "execution_count": 26,
   "metadata": {
    "scrolled": true
   },
   "outputs": [
    {
     "name": "stdout",
     "output_type": "stream",
     "text": [
      "8\n",
      "8\n",
      "true\n",
      "27\n",
      "Les petits pois sont verts\n",
      "s peti\n",
      "LES PETITS POIS SONT ROUGES\n"
     ]
    }
   ],
   "source": [
    "println(  search(\"Les petits pois sont rouges\", 'i')                ,\"\\n\",\n",
    "          search(\"Les petits pois sont rouges\", 'i', 8)             ,\"\\n\",\n",
    "          contains(\"Les petits pois sont rouges\", \"pois\")           ,\"\\n\",\n",
    "          length(\"Les petits pois sont rouges\")                     ,\"\\n\",\n",
    "          replace(\"Les petits pois sont rouges\",\"rouges\",\"verts\")   ,\"\\n\",\n",
    "          \"Les petits pois sont rouges\"[3:8]                        ,\"\\n\",\n",
    "          uppercase(\"Les petits pois sont rouges\")                      )"
   ]
  },
  {
   "cell_type": "markdown",
   "metadata": {},
   "source": [
    "On peut parcourir les caractères d'une chaîne:"
   ]
  },
  {
   "cell_type": "code",
   "execution_count": 27,
   "metadata": {},
   "outputs": [
    {
     "name": "stdout",
     "output_type": "stream",
     "text": [
      "un 🌵 vert"
     ]
    }
   ],
   "source": [
    "for c in \"un 🌵 vert\"\n",
    "    print(c)\n",
    "end"
   ]
  },
  {
   "cell_type": "markdown",
   "metadata": {},
   "source": [
    "On peut aussi construire des sous-chaines de caractères:"
   ]
  },
  {
   "cell_type": "code",
   "execution_count": 30,
   "metadata": {},
   "outputs": [
    {
     "data": {
      "text/plain": [
       "3-element Array{SubString{String},1}:\n",
       " \"You k\" \n",
       " \"ow my \"\n",
       " \"ame\"   "
      ]
     },
     "execution_count": 30,
     "metadata": {},
     "output_type": "execute_result"
    }
   ],
   "source": [
    "\"abcdefg\"[2]                  # => 'b'     (c'est un Char)\n",
    "\"abcdefg\"[2:4]                # => \"bcd\"   (c'est un String)\n",
    "\"abcdefg\"[2:end]              # => \"bcdefg\"\n",
    "\"abcdefg\"[end:-1:1]           # => \"gfedcba\" équivalent à reverse(\"abcdefg\")\n",
    "split(\"You know my name\")     # => [\"You\", \"know\", \"my\", \"name\"]\n",
    "split(\"You know my name\",\"n\") # => [\"You k\", \"ow my \", \"ame\"]"
   ]
  },
  {
   "cell_type": "markdown",
   "metadata": {},
   "source": [
    "----\n",
    "## 6. Ranges\n",
    "\n",
    "On a déjà vu des expressions comme `\"abcdefg\"[2:4]` où la chaine de caractères `\"abcdefg\"` est vue comme une suite de caractères et  `\"abcdefg\"[2:4]`  et la sous-chaine comprenant les caractères 2 à 4, ici `[2:4]` représente la suite des indices concernés, en fait cet objet est de type `Range` qu'il faut comprendre un minimum.\n",
    "\n",
    "Le type `range`, qui sera utile par exemple dans les boucle `for`, permet aussi de créer des arrays. On peut le construire par pas selone la syntaxe:\n",
    "```\n",
    "   début:[pas:]fin\n",
    "```\n",
    "ou par longueur selon la syntaxe:\n",
    "```\n",
    "  range(début,[pas,]longueur)\n",
    "```\n",
    "on peut créer des objets équivalents grace à\n",
    "```\n",
    "  linspace(début,fin,longueur)\n",
    "```"
   ]
  },
  {
   "cell_type": "code",
   "execution_count": 53,
   "metadata": {},
   "outputs": [
    {
     "name": "stdout",
     "output_type": "stream",
     "text": [
      "1:5                           5  [1, 2, 3, 4, 5]\n",
      "1:6                           6  [1, 2, 3, 4, 5, 6]\n",
      "1:2:5                         3  [1, 3, 5]\n",
      "0.0:3.3333333333333335:10.0   4  [0.0, 3.33333, 6.66667, 10.0]\n",
      "1.5:2.1:7.8                   4  [1.5, 3.6, 5.7, 7.8]\n",
      "8:-1:0                        9  [8, 7, 6, 5, 4, 3, 2, 1, 0]\n"
     ]
    }
   ],
   "source": [
    "mes_ranges = (\n",
    "    1:5,                # de 1 à 5 par pas de 1 \n",
    "    range(1,6),         # 6 termes à partir de 1\n",
    "    1:2:6,              #  par pas de 2\n",
    "    linspace(0,10,4),   # de 0 à 10 en 4 termes\n",
    "    1.5:2.1:8,          # aussi valable pour les non-entiers\n",
    "    8:-1:0)             # pas négatif\n",
    "for i in mes_ranges                                     # la boucle for est très simple\n",
    "    println(rpad(i,28),\"  \",length(i),\"  \",collect(i))  # rpad: affiche son arg à gauche d'une colonne de 12\n",
    "end                                                     # caractères; length: nb de termes"
   ]
  },
  {
   "cell_type": "code",
   "execution_count": 45,
   "metadata": {},
   "outputs": [
    {
     "data": {
      "text/plain": [
       "0.0:2.718281828459045:5.43656365691809"
      ]
     },
     "execution_count": 45,
     "metadata": {},
     "output_type": "execute_result"
    }
   ],
   "source": [
    "x = 0:e:7 \n",
    "step(x)                 # pas du range ici c'est e\n",
    "length(x)               # nombre de termes du range\n",
    "round.(x)               # on peut \"broadcaster\" une fonction sur le range avec le \".\"\n",
    "sin.(x)                 #  idem\n",
    "y = collect(x)          # converti les ranges en arrays (cf. infra)\n",
    "pop!(y)                 # y est modifié en place"
   ]
  },
  {
   "cell_type": "markdown",
   "metadata": {},
   "source": [
    "----\n",
    "## 7. Arrays\n",
    "\n",
    "Les arrays (tableaux) permettent aussi de représenter des vecteurs et des matrice (voir Exemple 2 infra). Ils sont **mutables**.\n",
    "\n",
    "\n",
    "Un array est une **collection ordonnée de termes**. On peut créer des arrays vides ou non, contenant des types différents ou des types spécifiques. En Julia, les tableaux sont utilisés pour les listes, les vecteurs, les tableaux et les matrices."
   ]
  },
  {
   "cell_type": "markdown",
   "metadata": {},
   "source": [
    "### Construction d'arrays"
   ]
  },
  {
   "cell_type": "code",
   "execution_count": 138,
   "metadata": {},
   "outputs": [
    {
     "name": "stdout",
     "output_type": "stream",
     "text": [
      "[1, 2, 3, 4, 5]\n",
      "UnitRange{Int64}[1:5]\n"
     ]
    },
    {
     "data": {
      "text/plain": [
       "(Array{Int64,1}, Array{UnitRange{Int64},1})"
      ]
     },
     "execution_count": 138,
     "metadata": {},
     "output_type": "execute_result"
    }
   ],
   "source": [
    "a = [1:5;]              # => [1, 2, 3, 4, 5] identique à collect(1:5)  \n",
    "b = [1:5]               # => un array avec un élément de type range 1:5\n",
    "println(a)\n",
    "println(b)\n",
    "typeof(a),typeof(b)"
   ]
  },
  {
   "cell_type": "code",
   "execution_count": 133,
   "metadata": {},
   "outputs": [
    {
     "data": {
      "text/plain": [
       "3-element Array{Any,1}:\n",
       "  \"pois\"\n",
       "  cos   \n",
       " 1.0    "
      ]
     },
     "execution_count": 133,
     "metadata": {},
     "output_type": "execute_result"
    }
   ],
   "source": [
    "x = [1, 2, 3]           # array de Int64                Array{Int64,1}\n",
    "x = [1; 2; 3]           # même objet\n",
    "x = [1., 2, 3]          # array de Float64              Array{Float64,1}\n",
    "x = [\"pois\", \"rouges\"]  # array de String               Array{String,1}\n",
    "x = [sin, cos, tan]     # array de fontions Function    Array{Function,1}\n",
    "x = [\"pois\", cos, 1.]   # array de n'importe quoi       Array{Any,1}"
   ]
  },
  {
   "cell_type": "markdown",
   "metadata": {},
   "source": [
    "##### Création d'arrays en imposant les types:"
   ]
  },
  {
   "cell_type": "code",
   "execution_count": 139,
   "metadata": {},
   "outputs": [
    {
     "ename": "LoadError",
     "evalue": "\u001b[91mInexactError()\u001b[39m",
     "output_type": "error",
     "traceback": [
      "\u001b[91mInexactError()\u001b[39m",
      "",
      "Stacktrace:",
      " [1] \u001b[1mconvert\u001b[22m\u001b[22m\u001b[1m(\u001b[22m\u001b[22m::Type{Int64}, ::Float64\u001b[1m)\u001b[22m\u001b[22m at \u001b[1m./float.jl:679\u001b[22m\u001b[22m",
      " [2] \u001b[1msetindex!\u001b[22m\u001b[22m\u001b[1m(\u001b[22m\u001b[22m::Array{Int64,1}, ::Float64, ::Int64\u001b[1m)\u001b[22m\u001b[22m at \u001b[1m./array.jl:583\u001b[22m\u001b[22m",
      " [3] \u001b[1minclude_string\u001b[22m\u001b[22m\u001b[1m(\u001b[22m\u001b[22m::String, ::String\u001b[1m)\u001b[22m\u001b[22m at \u001b[1m./loading.jl:522\u001b[22m\u001b[22m"
     ]
    }
   ],
   "source": [
    "x    = Array{Any}(3)    # un tableau de 3 termes de tout type\n",
    "x[1] = 1 \n",
    "x[2] = 'a'\n",
    "Float64[1, 2, 3, 4]     # un tableau de réels contenant 1.0, 2.0 etc\n",
    "y    = Array{Int}(3)\n",
    "y[1] = 2.2              # ERREUR\n",
    "z    = Float16[]        # idem à Array{Float16}()"
   ]
  },
  {
   "cell_type": "markdown",
   "metadata": {},
   "source": [
    "##### Création d'arrays préremplis"
   ]
  },
  {
   "cell_type": "code",
   "execution_count": 101,
   "metadata": {},
   "outputs": [
    {
     "name": "stdout",
     "output_type": "stream",
     "text": [
      "Array{Float64,1}  [0.60959, 0.365728]\n",
      "Array{Float64,2}  [1.0 1.0 1.0; 1.0 1.0 1.0]\n",
      "Array{Float64,2}  [0.0 0.0 0.0; 0.0 0.0 0.0]\n",
      "Array{Float64,2}  [1.0 0.0; 0.0 1.0]\n"
     ]
    }
   ],
   "source": [
    "x = (rand(2),           # un array 2x1 de nombres aléatoires U[0,1]\n",
    "    ones(2,3),          # un array 2x3 de 1\n",
    "    zeros(2,3),         # idem mais avec des 0\n",
    "    eye(2))             # matrice identité 2x2\n",
    "for i in x\n",
    "    println(typeof(i), \"  \",i)\n",
    "end"
   ]
  },
  {
   "cell_type": "markdown",
   "metadata": {},
   "source": [
    "##### Création d'arrays sous forme Vecteurs et matrices:"
   ]
  },
  {
   "cell_type": "code",
   "execution_count": 140,
   "metadata": {},
   "outputs": [
    {
     "data": {
      "text/plain": [
       "5×5 Array{Any,2}:\n",
       " #undef  #undef  #undef  #undef  #undef\n",
       " #undef  #undef  #undef  #undef  #undef\n",
       " #undef  #undef  #undef  #undef  #undef\n",
       " #undef  #undef  #undef  #undef  #undef\n",
       " #undef  #undef  #undef  #undef  #undef"
      ]
     },
     "execution_count": 140,
     "metadata": {},
     "output_type": "execute_result"
    }
   ],
   "source": [
    "Vector(5)\n",
    "Matrix(5, 5)"
   ]
  },
  {
   "cell_type": "code",
   "execution_count": null,
   "metadata": {},
   "outputs": [],
   "source": []
  },
  {
   "cell_type": "markdown",
   "metadata": {},
   "source": [
    "### Slicing\n",
    "\n",
    "Le **slicing** à l'aide de `Range`:"
   ]
  },
  {
   "cell_type": "code",
   "execution_count": 65,
   "metadata": {},
   "outputs": [
    {
     "data": {
      "text/plain": [
       "3-element Array{Char,1}:\n",
       " 'a'\n",
       " 'c'\n",
       " 'e'"
      ]
     },
     "execution_count": 65,
     "metadata": {},
     "output_type": "execute_result"
    }
   ],
   "source": [
    "x = ['a', 'b', 'c', 'd', 'e', 'f']\n",
    "x[1]         # => 'a'\n",
    "x[end]       # => 'f'\n",
    "x[1:2:end]   # => ['a', 'c', 'e']"
   ]
  },
  {
   "cell_type": "markdown",
   "metadata": {},
   "source": [
    "### Opérations sur les array\n",
    "\n",
    "deux fonctions de tri qui modifient ou non le tableau en place"
   ]
  },
  {
   "cell_type": "markdown",
   "metadata": {},
   "source": [
    "certaines opérations **modifient en place** les tableaux, le nom de ces opérations se termine par \"!\":"
   ]
  },
  {
   "cell_type": "code",
   "execution_count": 116,
   "metadata": {},
   "outputs": [
    {
     "data": {
      "text/plain": [
       "3-element Array{Int64,1}:\n",
       " 1\n",
       " 2\n",
       " 3"
      ]
     },
     "execution_count": 116,
     "metadata": {},
     "output_type": "execute_result"
    }
   ],
   "source": [
    "x = [2, 1, 3]\n",
    "sort(x)   # => [1,2,3] et x est [2,1,3]\n",
    "sort!(x)  # => [1,2,3] et x est [1,2,3]"
   ]
  },
  {
   "cell_type": "code",
   "execution_count": 134,
   "metadata": {},
   "outputs": [
    {
     "data": {
      "text/plain": [
       "3-element Array{Int64,1}:\n",
       " 1\n",
       " 2\n",
       " 3"
      ]
     },
     "execution_count": 134,
     "metadata": {},
     "output_type": "execute_result"
    }
   ],
   "source": [
    "x = [1, 2, 3]\n",
    "pop!(x)             # rend le dernier terme de x     et modifie x qui est [1, 2]\n",
    "pop!(x)             # rend le dernier terme de x     et modifie x qui est [1]\n",
    "push!(x,2)          # rajoute un terme à la fin de x et modifie x qui est [1, 2]\n",
    "push!(x,3)          # rajoute un terme à la fin de x et modifie x qui est [1, 2, 3]"
   ]
  },
  {
   "cell_type": "markdown",
   "metadata": {},
   "source": [
    "##### Broadcasting\n",
    "\n",
    "*Broadcaster une fonction sur un array* signifie appliquer une même fonction `fonction` à tous les éléments d'un array `tableau`:\n",
    "```\n",
    "   fonction.(tableau)\n",
    "```"
   ]
  },
  {
   "cell_type": "code",
   "execution_count": 296,
   "metadata": {
    "scrolled": true
   },
   "outputs": [
    {
     "data": {
      "text/plain": [
       "5-element Array{Float64,1}:\n",
       "  1.0\n",
       "  0.0\n",
       " -1.0\n",
       " -0.0\n",
       "  1.0"
      ]
     },
     "execution_count": 296,
     "metadata": {},
     "output_type": "execute_result"
    }
   ],
   "source": [
    "x = π*(0:0.5:2)  # de 0 à 2π par pas de π/2\n",
    "x = cos.(x)      # dispatch de cosinus sur x\n",
    "round.(x,1)      # dispatch de round sur x"
   ]
  },
  {
   "cell_type": "markdown",
   "metadata": {},
   "source": [
    "Définir des **fonctions sur les arrays** à l'aide du broadcast:"
   ]
  },
  {
   "cell_type": "code",
   "execution_count": 324,
   "metadata": {},
   "outputs": [
    {
     "data": {
      "text/plain": [
       "true"
      ]
     },
     "execution_count": 324,
     "metadata": {},
     "output_type": "execute_result"
    }
   ],
   "source": [
    "f(x) = sin.(x.^2+1)    # 1) f s'applique à des array\n",
    "r1 = f(1:5)            #    on applique f à un range (un array)\n",
    "g(x) =  sin(x^2+1)     # 2) g s'applique à des nombres\n",
    "r2 = g.(1:5)           #    on broadcaste g sur un array\n",
    "h(x) = sin.(x.^2+1)    # 3) ça marche aussi \n",
    "r3 = h.(1:5)           #    même si c'est plus curieux\n",
    "r1 == r2 == r3         # => true  (tous des Array{Float64,1})"
   ]
  },
  {
   "cell_type": "markdown",
   "metadata": {},
   "source": [
    "### Les arrays sont **mutables**"
   ]
  },
  {
   "cell_type": "code",
   "execution_count": 68,
   "metadata": {},
   "outputs": [
    {
     "data": {
      "text/plain": [
       "3-element Array{Int64,1}:\n",
       " 0\n",
       " 2\n",
       " 3"
      ]
     },
     "execution_count": 68,
     "metadata": {},
     "output_type": "execute_result"
    }
   ],
   "source": [
    "x    = [1, 2, 3]\n",
    "y    = x\n",
    "y[1] = 0     # modifie aussi x\n",
    "x    "
   ]
  },
  {
   "cell_type": "markdown",
   "metadata": {},
   "source": [
    "# 8. Tuples\n",
    "\n",
    "Un `tuple` est une séquence ordonnée d'éléments, comme un array. Un tuple est représenté par des **parenthèses** et des virgules, plutôt que par les crochets utilisés par les tableaux. Les tuples servent pour les petites collections de longueur fixe. Ils sont utilisés partout dans Julia, par exemple comme des listes d'arguments et pour renvoyer plusieurs valeurs de fonctions.\n",
    "\n",
    "Contrairement aux arrays, les **tuples sont immuables**, mais ils partagent de nombreuses fonctions:"
   ]
  },
  {
   "cell_type": "code",
   "execution_count": null,
   "metadata": {},
   "outputs": [],
   "source": []
  },
  {
   "cell_type": "code",
   "execution_count": 24,
   "metadata": {},
   "outputs": [
    {
     "ename": "LoadError",
     "evalue": "\u001b[91mMethodError: no method matching setindex!(::Tuple{Int64,Int64,Int64}, ::Int64, ::Int64)\u001b[39m",
     "output_type": "error",
     "traceback": [
      "\u001b[91mMethodError: no method matching setindex!(::Tuple{Int64,Int64,Int64}, ::Int64, ::Int64)\u001b[39m",
      "",
      "Stacktrace:",
      " [1] \u001b[1minclude_string\u001b[22m\u001b[22m\u001b[1m(\u001b[22m\u001b[22m::String, ::String\u001b[1m)\u001b[22m\u001b[22m at \u001b[1m./loading.jl:522\u001b[22m\u001b[22m"
     ]
    }
   ],
   "source": [
    "a = (1,2,3)\n",
    "a[1]\n",
    "a[1] = 2"
   ]
  },
  {
   "cell_type": "code",
   "execution_count": 25,
   "metadata": {},
   "outputs": [
    {
     "name": "stdout",
     "output_type": "stream",
     "text": [
      "non\n"
     ]
    }
   ],
   "source": [
    "a = [1,2,3]\n",
    "try\n",
    "    a[end+1] # BoundsError: attempt to access 3-element Array{Int64,1} at index [4]\n",
    "catch e\n",
    "    println(\"non\")\n",
    "end"
   ]
  },
  {
   "cell_type": "code",
   "execution_count": 66,
   "metadata": {},
   "outputs": [
    {
     "data": {
      "text/plain": [
       "3-element Array{Int64,1}:\n",
       " 0\n",
       " 2\n",
       " 3"
      ]
     },
     "execution_count": 66,
     "metadata": {},
     "output_type": "execute_result"
    }
   ],
   "source": [
    "x = [1, 2 ,3]\n",
    "y = x\n",
    "y[1] = 0\n",
    "x"
   ]
  },
  {
   "cell_type": "markdown",
   "metadata": {},
   "source": [
    " # 9. Dictionnaires et ensembles"
   ]
  },
  {
   "cell_type": "code",
   "execution_count": null,
   "metadata": {},
   "outputs": [],
   "source": []
  },
  {
   "cell_type": "code",
   "execution_count": null,
   "metadata": {},
   "outputs": [],
   "source": []
  },
  {
   "cell_type": "markdown",
   "metadata": {},
   "source": [
    "## Expressions conditionnelles"
   ]
  },
  {
   "cell_type": "code",
   "execution_count": null,
   "metadata": {},
   "outputs": [],
   "source": []
  },
  {
   "cell_type": "code",
   "execution_count": null,
   "metadata": {},
   "outputs": [],
   "source": []
  },
  {
   "cell_type": "markdown",
   "metadata": {},
   "source": [
    "## Fonctions"
   ]
  },
  {
   "cell_type": "code",
   "execution_count": null,
   "metadata": {},
   "outputs": [],
   "source": [
    "f(x) = cos.(0.01x.^2)+x.*(3-x)+1    # on veut l'utiliser sur des array\n",
    "ff = x -> cos.(0.01x.^2)+x.*(3-x)+1 # style anonymous"
   ]
  },
  {
   "cell_type": "code",
   "execution_count": 26,
   "metadata": {},
   "outputs": [
    {
     "data": {
      "text/plain": [
       "5-element Array{Int64,1}:\n",
       " 1\n",
       " 2\n",
       " 3\n",
       " 4\n",
       " 5"
      ]
     },
     "execution_count": 26,
     "metadata": {},
     "output_type": "execute_result"
    }
   ],
   "source": [
    "a = [1:5]\n",
    "b = [1:5;]\n",
    "b"
   ]
  },
  {
   "cell_type": "markdown",
   "metadata": {},
   "source": [
    "## Exemple 1: méthode de la dichotomie\n",
    "\n",
    "La [méthode de la dichotomie](https://fr.wikipedia.org/wiki/Méthode_de_dichotomie) est un [algorithme de recherche d'un zéro d'une fonction](https://fr.wikipedia.org/wiki/Algorithme_de_recherche_d%27un_zéro_d%27une_fonction)."
   ]
  },
  {
   "cell_type": "code",
   "execution_count": 27,
   "metadata": {},
   "outputs": [
    {
     "data": {
      "text/plain": [
       "dichotomie (generic function with 1 method)"
      ]
     },
     "execution_count": 27,
     "metadata": {},
     "output_type": "execute_result"
    }
   ],
   "source": [
    "function dichotomie( f::Function, a, b; itémax=500, tolérance=1e-8)  # le premier argument sera une fonction\n",
    "    \n",
    "    fa, fb = f(a), f(b)\n",
    "    fa*fb > 0 ? error(\"f(a) et f(b) doivent être de signe différent\") : nothing\n",
    "\n",
    "    for i in 1:itémax\n",
    "        m  = (a+b)/2\n",
    "        fm = f(m)\n",
    "        \n",
    "        abs(fm) > tolérance ? nothing : return(m,fm)\n",
    "        \n",
    "        if fa*fm > 0\n",
    "            a, fa = m, fm\n",
    "        else\n",
    "            b, fb = m, fm\n",
    "        end\n",
    "    end\n",
    "   \n",
    "    error(\"Pas de convergence en $itémax itérations\")\n",
    "\n",
    "end"
   ]
  },
  {
   "cell_type": "code",
   "execution_count": 28,
   "metadata": {},
   "outputs": [
    {
     "data": {
      "text/plain": [
       "(::#4) (generic function with 1 method)"
      ]
     },
     "execution_count": 28,
     "metadata": {},
     "output_type": "execute_result"
    }
   ],
   "source": [
    "f(x) = cos.(0.01x.^2)+x.*(3-x)+1    # on veut l'utiliser sur des array\n",
    "ff = x -> cos.(0.01x.^2)+x.*(3-x)+1 # style anonymous"
   ]
  },
  {
   "cell_type": "code",
   "execution_count": null,
   "metadata": {},
   "outputs": [],
   "source": [
    "println(dichotomie(f,0,10))\n",
    "println(dichotomie(ff,0,10)) # même chose"
   ]
  },
  {
   "cell_type": "markdown",
   "metadata": {},
   "source": [
    "Un peu de graphique à du package `Plots`:"
   ]
  },
  {
   "cell_type": "code",
   "execution_count": 37,
   "metadata": {},
   "outputs": [],
   "source": [
    "# Pkg.add(\"Plots\") # si ce n'est déjà fait\n",
    "using Plots"
   ]
  },
  {
   "cell_type": "code",
   "execution_count": 38,
   "metadata": {},
   "outputs": [
    {
     "data": {
      "text/html": [
       "<?xml version=\"1.0\" encoding=\"utf-8\"?>\n",
       "<svg xmlns=\"http://www.w3.org/2000/svg\" xmlns:xlink=\"http://www.w3.org/1999/xlink\" width=\"600\" height=\"400\" viewBox=\"0 0 600 400\">\n",
       "<defs>\n",
       "  <clipPath id=\"clip3200\">\n",
       "    <rect x=\"0\" y=\"0\" width=\"600\" height=\"400\"/>\n",
       "  </clipPath>\n",
       "</defs>\n",
       "<polygon clip-path=\"url(#clip3200)\" points=\"\n",
       "0,400 600,400 600,0 0,0 \n",
       "  \" fill=\"#ffffff\" fill-opacity=\"1\"/>\n",
       "<defs>\n",
       "  <clipPath id=\"clip3201\">\n",
       "    <rect x=\"120\" y=\"0\" width=\"421\" height=\"400\"/>\n",
       "  </clipPath>\n",
       "</defs>\n",
       "<polygon clip-path=\"url(#clip3200)\" points=\"\n",
       "39.502,375.869 580.315,375.869 580.315,11.811 39.502,11.811 \n",
       "  \" fill=\"#ffffff\" fill-opacity=\"1\"/>\n",
       "<defs>\n",
       "  <clipPath id=\"clip3202\">\n",
       "    <rect x=\"39\" y=\"11\" width=\"542\" height=\"365\"/>\n",
       "  </clipPath>\n",
       "</defs>\n",
       "<polyline clip-path=\"url(#clip3202)\" style=\"stroke:#000000; stroke-width:0.5; stroke-opacity:0.1; fill:none\" points=\"\n",
       "  54.808,375.869 54.808,11.811 \n",
       "  \"/>\n",
       "<polyline clip-path=\"url(#clip3202)\" style=\"stroke:#000000; stroke-width:0.5; stroke-opacity:0.1; fill:none\" points=\"\n",
       "  156.848,375.869 156.848,11.811 \n",
       "  \"/>\n",
       "<polyline clip-path=\"url(#clip3202)\" style=\"stroke:#000000; stroke-width:0.5; stroke-opacity:0.1; fill:none\" points=\"\n",
       "  258.888,375.869 258.888,11.811 \n",
       "  \"/>\n",
       "<polyline clip-path=\"url(#clip3202)\" style=\"stroke:#000000; stroke-width:0.5; stroke-opacity:0.1; fill:none\" points=\"\n",
       "  360.929,375.869 360.929,11.811 \n",
       "  \"/>\n",
       "<polyline clip-path=\"url(#clip3202)\" style=\"stroke:#000000; stroke-width:0.5; stroke-opacity:0.1; fill:none\" points=\"\n",
       "  462.969,375.869 462.969,11.811 \n",
       "  \"/>\n",
       "<polyline clip-path=\"url(#clip3202)\" style=\"stroke:#000000; stroke-width:0.5; stroke-opacity:0.1; fill:none\" points=\"\n",
       "  565.009,375.869 565.009,11.811 \n",
       "  \"/>\n",
       "<polyline clip-path=\"url(#clip3202)\" style=\"stroke:#000000; stroke-width:0.5; stroke-opacity:0.1; fill:none\" points=\"\n",
       "  39.502,350.713 580.315,350.713 \n",
       "  \"/>\n",
       "<polyline clip-path=\"url(#clip3202)\" style=\"stroke:#000000; stroke-width:0.5; stroke-opacity:0.1; fill:none\" points=\"\n",
       "  39.502,280.797 580.315,280.797 \n",
       "  \"/>\n",
       "<polyline clip-path=\"url(#clip3202)\" style=\"stroke:#000000; stroke-width:0.5; stroke-opacity:0.1; fill:none\" points=\"\n",
       "  39.502,210.881 580.315,210.881 \n",
       "  \"/>\n",
       "<polyline clip-path=\"url(#clip3202)\" style=\"stroke:#000000; stroke-width:0.5; stroke-opacity:0.1; fill:none\" points=\"\n",
       "  39.502,140.965 580.315,140.965 \n",
       "  \"/>\n",
       "<polyline clip-path=\"url(#clip3202)\" style=\"stroke:#000000; stroke-width:0.5; stroke-opacity:0.1; fill:none\" points=\"\n",
       "  39.502,71.0486 580.315,71.0486 \n",
       "  \"/>\n",
       "<polyline clip-path=\"url(#clip3200)\" style=\"stroke:#000000; stroke-width:1; stroke-opacity:1; fill:none\" points=\"\n",
       "  39.502,375.869 580.315,375.869 \n",
       "  \"/>\n",
       "<polyline clip-path=\"url(#clip3200)\" style=\"stroke:#000000; stroke-width:1; stroke-opacity:1; fill:none\" points=\"\n",
       "  39.502,375.869 39.502,11.811 \n",
       "  \"/>\n",
       "<polyline clip-path=\"url(#clip3200)\" style=\"stroke:#000000; stroke-width:1; stroke-opacity:1; fill:none\" points=\"\n",
       "  54.808,375.869 54.808,370.408 \n",
       "  \"/>\n",
       "<polyline clip-path=\"url(#clip3200)\" style=\"stroke:#000000; stroke-width:1; stroke-opacity:1; fill:none\" points=\"\n",
       "  156.848,375.869 156.848,370.408 \n",
       "  \"/>\n",
       "<polyline clip-path=\"url(#clip3200)\" style=\"stroke:#000000; stroke-width:1; stroke-opacity:1; fill:none\" points=\"\n",
       "  258.888,375.869 258.888,370.408 \n",
       "  \"/>\n",
       "<polyline clip-path=\"url(#clip3200)\" style=\"stroke:#000000; stroke-width:1; stroke-opacity:1; fill:none\" points=\"\n",
       "  360.929,375.869 360.929,370.408 \n",
       "  \"/>\n",
       "<polyline clip-path=\"url(#clip3200)\" style=\"stroke:#000000; stroke-width:1; stroke-opacity:1; fill:none\" points=\"\n",
       "  462.969,375.869 462.969,370.408 \n",
       "  \"/>\n",
       "<polyline clip-path=\"url(#clip3200)\" style=\"stroke:#000000; stroke-width:1; stroke-opacity:1; fill:none\" points=\"\n",
       "  565.009,375.869 565.009,370.408 \n",
       "  \"/>\n",
       "<polyline clip-path=\"url(#clip3200)\" style=\"stroke:#000000; stroke-width:1; stroke-opacity:1; fill:none\" points=\"\n",
       "  39.502,350.713 47.6142,350.713 \n",
       "  \"/>\n",
       "<polyline clip-path=\"url(#clip3200)\" style=\"stroke:#000000; stroke-width:1; stroke-opacity:1; fill:none\" points=\"\n",
       "  39.502,280.797 47.6142,280.797 \n",
       "  \"/>\n",
       "<polyline clip-path=\"url(#clip3200)\" style=\"stroke:#000000; stroke-width:1; stroke-opacity:1; fill:none\" points=\"\n",
       "  39.502,210.881 47.6142,210.881 \n",
       "  \"/>\n",
       "<polyline clip-path=\"url(#clip3200)\" style=\"stroke:#000000; stroke-width:1; stroke-opacity:1; fill:none\" points=\"\n",
       "  39.502,140.965 47.6142,140.965 \n",
       "  \"/>\n",
       "<polyline clip-path=\"url(#clip3200)\" style=\"stroke:#000000; stroke-width:1; stroke-opacity:1; fill:none\" points=\"\n",
       "  39.502,71.0486 47.6142,71.0486 \n",
       "  \"/>\n",
       "<g clip-path=\"url(#clip3200)\">\n",
       "<text style=\"fill:#000000; fill-opacity:1; font-family:Arial,Helvetica Neue,Helvetica,sans-serif; font-size:12; text-anchor:middle;\" transform=\"rotate(0, 54.808, 389.669)\" x=\"54.808\" y=\"389.669\">0</text>\n",
       "</g>\n",
       "<g clip-path=\"url(#clip3200)\">\n",
       "<text style=\"fill:#000000; fill-opacity:1; font-family:Arial,Helvetica Neue,Helvetica,sans-serif; font-size:12; text-anchor:middle;\" transform=\"rotate(0, 156.848, 389.669)\" x=\"156.848\" y=\"389.669\">1</text>\n",
       "</g>\n",
       "<g clip-path=\"url(#clip3200)\">\n",
       "<text style=\"fill:#000000; fill-opacity:1; font-family:Arial,Helvetica Neue,Helvetica,sans-serif; font-size:12; text-anchor:middle;\" transform=\"rotate(0, 258.888, 389.669)\" x=\"258.888\" y=\"389.669\">2</text>\n",
       "</g>\n",
       "<g clip-path=\"url(#clip3200)\">\n",
       "<text style=\"fill:#000000; fill-opacity:1; font-family:Arial,Helvetica Neue,Helvetica,sans-serif; font-size:12; text-anchor:middle;\" transform=\"rotate(0, 360.929, 389.669)\" x=\"360.929\" y=\"389.669\">3</text>\n",
       "</g>\n",
       "<g clip-path=\"url(#clip3200)\">\n",
       "<text style=\"fill:#000000; fill-opacity:1; font-family:Arial,Helvetica Neue,Helvetica,sans-serif; font-size:12; text-anchor:middle;\" transform=\"rotate(0, 462.969, 389.669)\" x=\"462.969\" y=\"389.669\">4</text>\n",
       "</g>\n",
       "<g clip-path=\"url(#clip3200)\">\n",
       "<text style=\"fill:#000000; fill-opacity:1; font-family:Arial,Helvetica Neue,Helvetica,sans-serif; font-size:12; text-anchor:middle;\" transform=\"rotate(0, 565.009, 389.669)\" x=\"565.009\" y=\"389.669\">5</text>\n",
       "</g>\n",
       "<g clip-path=\"url(#clip3200)\">\n",
       "<text style=\"fill:#000000; fill-opacity:1; font-family:Arial,Helvetica Neue,Helvetica,sans-serif; font-size:12; text-anchor:end;\" transform=\"rotate(0, 33.502, 355.213)\" x=\"33.502\" y=\"355.213\">-7.5</text>\n",
       "</g>\n",
       "<g clip-path=\"url(#clip3200)\">\n",
       "<text style=\"fill:#000000; fill-opacity:1; font-family:Arial,Helvetica Neue,Helvetica,sans-serif; font-size:12; text-anchor:end;\" transform=\"rotate(0, 33.502, 285.297)\" x=\"33.502\" y=\"285.297\">-5.0</text>\n",
       "</g>\n",
       "<g clip-path=\"url(#clip3200)\">\n",
       "<text style=\"fill:#000000; fill-opacity:1; font-family:Arial,Helvetica Neue,Helvetica,sans-serif; font-size:12; text-anchor:end;\" transform=\"rotate(0, 33.502, 215.381)\" x=\"33.502\" y=\"215.381\">-2.5</text>\n",
       "</g>\n",
       "<g clip-path=\"url(#clip3200)\">\n",
       "<text style=\"fill:#000000; fill-opacity:1; font-family:Arial,Helvetica Neue,Helvetica,sans-serif; font-size:12; text-anchor:end;\" transform=\"rotate(0, 33.502, 145.465)\" x=\"33.502\" y=\"145.465\">0.0</text>\n",
       "</g>\n",
       "<g clip-path=\"url(#clip3200)\">\n",
       "<text style=\"fill:#000000; fill-opacity:1; font-family:Arial,Helvetica Neue,Helvetica,sans-serif; font-size:12; text-anchor:end;\" transform=\"rotate(0, 33.502, 75.5486)\" x=\"33.502\" y=\"75.5486\">2.5</text>\n",
       "</g>\n",
       "<polyline clip-path=\"url(#clip3202)\" style=\"stroke:#009af9; stroke-width:1; stroke-opacity:1; fill:none\" points=\"\n",
       "  54.808,85.0318 55.8284,84.1956 56.8488,83.365 57.8692,82.54 58.8896,81.7206 59.9101,80.9068 60.9305,80.0986 61.9509,79.2959 62.9713,78.4989 63.9917,77.7074 \n",
       "  65.0121,76.9216 66.0325,76.1413 67.0529,75.3667 68.0733,74.5976 69.0937,73.8341 70.1141,73.0762 71.1345,72.3239 72.1549,71.5772 73.1753,70.8361 74.1957,70.1006 \n",
       "  75.2161,69.3707 76.2365,68.6463 77.2569,67.9276 78.2773,67.2145 79.2977,66.5069 80.3181,65.805 81.3385,65.1086 82.3589,64.4178 83.3793,63.7326 84.3997,63.0531 \n",
       "  85.4201,62.3791 86.4405,61.7107 87.4609,61.0479 88.4813,60.3907 89.5017,59.7391 90.5221,59.093 91.5425,58.4526 92.5629,57.8178 93.5833,57.1885 94.6037,56.5649 \n",
       "  95.6241,55.9468 96.6445,55.3344 97.6649,54.7275 98.6853,54.1262 99.7057,53.5306 100.726,52.9405 101.747,52.356 102.767,51.7771 103.787,51.2038 104.808,50.6361 \n",
       "  105.828,50.0739 106.849,49.5174 107.869,48.9665 108.889,48.4212 109.91,47.8814 110.93,47.3473 111.951,46.8187 112.971,46.2957 113.991,45.7784 115.012,45.2666 \n",
       "  116.032,44.7604 117.053,44.2598 118.073,43.7648 119.093,43.2754 120.114,42.7916 121.134,42.3134 122.155,41.8408 123.175,41.3738 124.195,40.9124 125.216,40.4565 \n",
       "  126.236,40.0063 127.257,39.5616 128.277,39.1226 129.297,38.6891 130.318,38.2613 131.338,37.839 132.359,37.4223 133.379,37.0112 134.399,36.6058 135.42,36.2059 \n",
       "  136.44,35.8116 137.461,35.4229 138.481,35.0398 139.501,34.6622 140.522,34.2903 141.542,33.924 142.563,33.5633 143.583,33.2081 144.603,32.8586 145.624,32.5146 \n",
       "  146.644,32.1763 147.665,31.8435 148.685,31.5164 149.705,31.1948 150.726,30.8788 151.746,30.5684 152.767,30.2637 153.787,29.9645 154.807,29.6709 155.828,29.3829 \n",
       "  156.848,29.1005 157.869,28.8236 158.889,28.5524 159.909,28.2868 160.93,28.0268 161.95,27.7724 162.971,27.5235 163.991,27.2803 165.011,27.0426 166.032,26.8106 \n",
       "  167.052,26.5841 168.073,26.3633 169.093,26.148 170.113,25.9383 171.134,25.7343 172.154,25.5358 173.175,25.3429 174.195,25.1556 175.215,24.9739 176.236,24.7978 \n",
       "  177.256,24.6273 178.277,24.4624 179.297,24.3031 180.317,24.1494 181.338,24.0013 182.358,23.8588 183.379,23.7219 184.399,23.5905 185.419,23.4648 186.44,23.3447 \n",
       "  187.46,23.2301 188.481,23.1212 189.501,23.0178 190.521,22.9201 191.542,22.8279 192.562,22.7414 193.583,22.6604 194.603,22.585 195.623,22.5153 196.644,22.4511 \n",
       "  197.664,22.3925 198.685,22.3395 199.705,22.2921 200.725,22.2503 201.746,22.2142 202.766,22.1836 203.787,22.1586 204.807,22.1392 205.828,22.1254 206.848,22.1172 \n",
       "  207.868,22.1145 208.889,22.1175 209.909,22.1261 210.93,22.1403 211.95,22.1601 212.97,22.1855 213.991,22.2164 215.011,22.253 216.032,22.2952 217.052,22.3429 \n",
       "  218.072,22.3963 219.093,22.4553 220.113,22.5198 221.134,22.59 222.154,22.6657 223.174,22.7471 224.195,22.834 225.215,22.9266 226.236,23.0247 227.256,23.1285 \n",
       "  228.276,23.2378 229.297,23.3527 230.317,23.4733 231.338,23.5994 232.358,23.7311 233.378,23.8685 234.399,24.0114 235.419,24.1599 236.44,24.3141 237.46,24.4738 \n",
       "  238.48,24.6391 239.501,24.81 240.521,24.9866 241.542,25.1687 242.562,25.3564 243.582,25.5497 244.603,25.7486 245.623,25.9532 246.644,26.1633 247.664,26.379 \n",
       "  248.684,26.6003 249.705,26.8272 250.725,27.0597 251.746,27.2978 252.766,27.5416 253.786,27.7909 254.807,28.0458 255.827,28.3063 256.848,28.5724 257.868,28.8441 \n",
       "  258.888,29.1214 259.909,29.4043 260.929,29.6929 261.95,29.987 262.97,30.2867 263.99,30.592 265.011,30.9029 266.031,31.2194 267.052,31.5415 268.072,31.8692 \n",
       "  269.092,32.2026 270.113,32.5415 271.133,32.886 272.154,33.2361 273.174,33.5918 274.194,33.9531 275.215,34.3201 276.235,34.6926 277.256,35.0707 278.276,35.4544 \n",
       "  279.296,35.8437 280.317,36.2387 281.337,36.6392 282.358,37.0453 283.378,37.4571 284.398,37.8744 285.419,38.2973 286.439,38.7259 287.46,39.16 288.48,39.5997 \n",
       "  289.5,40.0451 290.521,40.496 291.541,40.9526 292.562,41.4147 293.582,41.8825 294.602,42.3558 295.623,42.8348 296.643,43.3193 297.664,43.8095 298.684,44.3053 \n",
       "  299.704,44.8066 300.725,45.3136 301.745,45.8262 302.766,46.3443 303.786,46.8681 304.806,47.3975 305.827,47.9325 306.847,48.4731 307.868,49.0193 308.888,49.5711 \n",
       "  309.908,50.1285 310.929,50.6915 311.949,51.2601 312.97,51.8343 313.99,52.4141 315.01,52.9995 316.031,53.5905 317.051,54.1872 318.072,54.7894 319.092,55.3972 \n",
       "  320.113,56.0107 321.133,56.6297 322.153,57.2544 323.174,57.8846 324.194,58.5205 325.215,59.1619 326.235,59.809 327.255,60.4617 328.276,61.12 329.296,61.7839 \n",
       "  330.317,62.4533 331.337,63.1284 332.357,63.8091 333.378,64.4955 334.398,65.1874 335.419,65.8849 336.439,66.588 337.459,67.2967 338.48,68.0111 339.5,68.731 \n",
       "  340.521,69.4566 341.541,70.1877 342.561,70.9245 343.582,71.6669 344.602,72.4148 345.623,73.1684 346.643,73.9276 347.663,74.6924 348.684,75.4628 349.704,76.2388 \n",
       "  350.725,77.0204 351.745,77.8077 352.765,78.6005 353.786,79.3989 354.806,80.203 355.827,81.0126 356.847,81.8279 357.867,82.6488 358.888,83.4752 359.908,84.3073 \n",
       "  360.929,85.145 361.949,85.9883 362.969,86.8372 363.99,87.6918 365.01,88.5519 366.031,89.4176 367.051,90.289 368.071,91.1659 369.092,92.0485 370.112,92.9367 \n",
       "  371.133,93.8305 372.153,94.7299 373.173,95.6349 374.194,96.5455 375.214,97.4617 376.235,98.3835 377.255,99.311 378.275,100.244 379.296,101.183 380.316,102.127 \n",
       "  381.337,103.077 382.357,104.032 383.377,104.993 384.398,105.96 385.418,106.932 386.439,107.91 387.459,108.894 388.479,109.883 389.5,110.878 390.52,111.878 \n",
       "  391.541,112.884 392.561,113.896 393.581,114.913 394.602,115.936 395.622,116.964 396.643,117.998 397.663,119.038 398.683,120.083 399.704,121.134 400.724,122.191 \n",
       "  401.745,123.253 402.765,124.321 403.785,125.394 404.806,126.473 405.826,127.557 406.847,128.648 407.867,129.743 408.887,130.845 409.908,131.952 410.928,133.064 \n",
       "  411.949,134.183 412.969,135.306 413.989,136.436 415.01,137.571 416.03,138.712 417.051,139.858 418.071,141.01 419.091,142.167 420.112,143.331 421.132,144.499 \n",
       "  422.153,145.674 423.173,146.854 424.193,148.039 425.214,149.231 426.234,150.427 427.255,151.63 428.275,152.838 429.295,154.052 430.316,155.271 431.336,156.496 \n",
       "  432.357,157.726 433.377,158.963 434.398,160.204 435.418,161.452 436.438,162.705 437.459,163.963 438.479,165.228 439.5,166.497 440.52,167.773 441.54,169.054 \n",
       "  442.561,170.341 443.581,171.633 444.602,172.931 445.622,174.235 446.642,175.544 447.663,176.859 448.683,178.179 449.704,179.505 450.724,180.837 451.744,182.174 \n",
       "  452.765,183.517 453.785,184.865 454.806,186.219 455.826,187.579 456.846,188.944 457.867,190.315 458.887,191.692 459.908,193.074 460.928,194.462 461.948,195.856 \n",
       "  462.969,197.255 463.989,198.659 465.01,200.07 466.03,201.486 467.05,202.907 468.071,204.334 469.091,205.767 470.112,207.205 471.132,208.65 472.152,210.099 \n",
       "  473.173,211.554 474.193,213.015 475.214,214.482 476.234,215.954 477.254,217.432 478.275,218.915 479.295,220.404 480.316,221.899 481.336,223.399 482.356,224.905 \n",
       "  483.377,226.416 484.397,227.934 485.418,229.456 486.438,230.985 487.458,232.519 488.479,234.058 489.499,235.603 490.52,237.154 491.54,238.711 492.56,240.273 \n",
       "  493.581,241.841 494.601,243.414 495.622,244.993 496.642,246.578 497.662,248.168 498.683,249.764 499.703,251.365 500.724,252.972 501.744,254.585 502.764,256.203 \n",
       "  503.785,257.827 504.805,259.457 505.826,261.092 506.846,262.733 507.866,264.379 508.887,266.032 509.907,267.689 510.928,269.353 511.948,271.022 512.968,272.696 \n",
       "  513.989,274.376 515.009,276.062 516.03,277.754 517.05,279.451 518.07,281.154 519.091,282.862 520.111,284.576 521.132,286.296 522.152,288.021 523.172,289.752 \n",
       "  524.193,291.488 525.213,293.23 526.234,294.978 527.254,296.732 528.274,298.491 529.295,300.255 530.315,302.025 531.336,303.801 532.356,305.583 533.376,307.37 \n",
       "  534.397,309.163 535.417,310.961 536.438,312.765 537.458,314.575 538.478,316.39 539.499,318.211 540.519,320.038 541.54,321.87 542.56,323.708 543.58,325.551 \n",
       "  544.601,327.4 545.621,329.255 546.642,331.116 547.662,332.982 548.683,334.853 549.703,336.73 550.723,338.613 551.744,340.502 552.764,342.396 553.785,344.296 \n",
       "  554.805,346.201 555.825,348.112 556.846,350.029 557.866,351.951 558.887,353.879 559.907,355.813 560.927,357.752 561.948,359.697 562.968,361.647 563.989,363.603 \n",
       "  565.009,365.565 \n",
       "  \"/>\n",
       "<circle clip-path=\"url(#clip3202)\" style=\"fill:#000000; stroke:none; fill-opacity:1\" cx=\"418.031\" cy=\"140.965\" r=\"4\"/>\n",
       "<circle clip-path=\"url(#clip3202)\" style=\"fill:#e26f46; stroke:none; fill-opacity:1\" cx=\"418.031\" cy=\"140.965\" r=\"3\"/>\n",
       "<polygon clip-path=\"url(#clip3200)\" points=\"\n",
       "453.483,78.051 562.315,78.051 562.315,32.691 453.483,32.691 \n",
       "  \" fill=\"#ffffff\" fill-opacity=\"1\"/>\n",
       "<polyline clip-path=\"url(#clip3200)\" style=\"stroke:#000000; stroke-width:1; stroke-opacity:1; fill:none\" points=\"\n",
       "  453.483,78.051 562.315,78.051 562.315,32.691 453.483,32.691 453.483,78.051 \n",
       "  \"/>\n",
       "<polyline clip-path=\"url(#clip3200)\" style=\"stroke:#009af9; stroke-width:1; stroke-opacity:1; fill:none\" points=\"\n",
       "  459.483,47.811 495.483,47.811 \n",
       "  \"/>\n",
       "<g clip-path=\"url(#clip3200)\">\n",
       "<text style=\"fill:#000000; fill-opacity:1; font-family:Arial,Helvetica Neue,Helvetica,sans-serif; font-size:12; text-anchor:start;\" transform=\"rotate(0, 501.483, 52.311)\" x=\"501.483\" y=\"52.311\">fonction f</text>\n",
       "</g>\n",
       "<circle clip-path=\"url(#clip3200)\" style=\"fill:#000000; stroke:none; fill-opacity:1\" cx=\"480.483\" cy=\"62.931\" r=\"6\"/>\n",
       "<circle clip-path=\"url(#clip3200)\" style=\"fill:#e26f46; stroke:none; fill-opacity:1\" cx=\"480.483\" cy=\"62.931\" r=\"5\"/>\n",
       "<g clip-path=\"url(#clip3200)\">\n",
       "<text style=\"fill:#000000; fill-opacity:1; font-family:Arial,Helvetica Neue,Helvetica,sans-serif; font-size:12; text-anchor:start;\" transform=\"rotate(0, 501.483, 67.431)\" x=\"501.483\" y=\"67.431\">solution</text>\n",
       "</g>\n",
       "</svg>\n"
      ]
     },
     "execution_count": 38,
     "metadata": {},
     "output_type": "execute_result"
    }
   ],
   "source": [
    "a, b = 0, 5\n",
    "solution, fsolution = dichotomie(f,a,b)\n",
    "x = a:0.01:b\n",
    "plot(x,f(x),label=\"fonction f\")                  # tracé de f\n",
    "scatter!((solution, fsolution),label=\"solution\") # rajoute un point"
   ]
  },
  {
   "cell_type": "markdown",
   "metadata": {},
   "source": [
    "## Exemple 2: manipuler les matrices"
   ]
  },
  {
   "cell_type": "code",
   "execution_count": 86,
   "metadata": {},
   "outputs": [
    {
     "data": {
      "text/plain": [
       "5-element Array{Any,1}:\n",
       " #undef\n",
       " #undef\n",
       " #undef\n",
       " #undef\n",
       " #undef"
      ]
     },
     "execution_count": 86,
     "metadata": {},
     "output_type": "execute_result"
    }
   ],
   "source": [
    "Vector(5)"
   ]
  },
  {
   "cell_type": "code",
   "execution_count": 87,
   "metadata": {},
   "outputs": [
    {
     "data": {
      "text/plain": [
       "5×5 Array{Any,2}:\n",
       " #undef  #undef  #undef  #undef  #undef\n",
       " #undef  #undef  #undef  #undef  #undef\n",
       " #undef  #undef  #undef  #undef  #undef\n",
       " #undef  #undef  #undef  #undef  #undef\n",
       " #undef  #undef  #undef  #undef  #undef"
      ]
     },
     "execution_count": 87,
     "metadata": {},
     "output_type": "execute_result"
    }
   ],
   "source": [
    "Matrix(5, 5)"
   ]
  },
  {
   "cell_type": "code",
   "execution_count": 88,
   "metadata": {},
   "outputs": [
    {
     "data": {
      "text/plain": [
       "4×3 Array{Float64,2}:\n",
       " 0.624419  0.112935  0.689244\n",
       " 0.153553  0.159717  0.958318\n",
       " 0.104109  0.757374  0.130699\n",
       " 0.595133  0.158374  0.420211"
      ]
     },
     "execution_count": 88,
     "metadata": {},
     "output_type": "execute_result"
    }
   ],
   "source": [
    "rand(4,3)"
   ]
  },
  {
   "cell_type": "code",
   "execution_count": 89,
   "metadata": {},
   "outputs": [
    {
     "data": {
      "text/plain": [
       "7-element Array{Float64,1}:\n",
       " 3.5\n",
       " 4.5\n",
       " 5.5\n",
       " 6.5\n",
       " 7.5\n",
       " 8.5\n",
       " 9.5"
      ]
     },
     "execution_count": 89,
     "metadata": {},
     "output_type": "execute_result"
    }
   ],
   "source": [
    "collect(3.5:9.5)"
   ]
  },
  {
   "cell_type": "code",
   "execution_count": 92,
   "metadata": {},
   "outputs": [
    {
     "data": {
      "text/plain": [
       "5-element Array{Int64,1}:\n",
       " 1\n",
       " 2\n",
       " 3\n",
       " 4\n",
       " 5"
      ]
     },
     "execution_count": 92,
     "metadata": {},
     "output_type": "execute_result"
    }
   ],
   "source": [
    "x = [1,2,3,4,5]   # vecteur colonne\n",
    "y = [1 2 3 4 5]   # vecteur ligne\n",
    "x                 # essayer avec y"
   ]
  },
  {
   "cell_type": "code",
   "execution_count": 147,
   "metadata": {},
   "outputs": [
    {
     "data": {
      "text/plain": [
       "3×4 Array{Float64,2}:\n",
       " 1.0  1.0  1.0  1.0\n",
       " 1.0  1.0  1.0  1.0\n",
       " 1.0  1.0  1.0  1.0"
      ]
     },
     "execution_count": 147,
     "metadata": {},
     "output_type": "execute_result"
    }
   ],
   "source": [
    "ones(3,4)"
   ]
  },
  {
   "cell_type": "code",
   "execution_count": 149,
   "metadata": {},
   "outputs": [
    {
     "data": {
      "text/plain": [
       "1×3 Array{Float64,2}:\n",
       " 0.0  0.0  0.0"
      ]
     },
     "execution_count": 149,
     "metadata": {},
     "output_type": "execute_result"
    }
   ],
   "source": [
    "zeros(1,3)"
   ]
  },
  {
   "cell_type": "code",
   "execution_count": 150,
   "metadata": {},
   "outputs": [
    {
     "data": {
      "text/plain": [
       "2×2 Array{Float64,2}:\n",
       " 0.519928  0.333002\n",
       " 0.229126  0.661973"
      ]
     },
     "execution_count": 150,
     "metadata": {},
     "output_type": "execute_result"
    }
   ],
   "source": [
    "rand(2,2)"
   ]
  },
  {
   "cell_type": "code",
   "execution_count": 153,
   "metadata": {},
   "outputs": [
    {
     "data": {
      "text/plain": [
       "2×2 Array{Float64,2}:\n",
       " 1.0  0.0\n",
       " 0.0  1.0"
      ]
     },
     "execution_count": 153,
     "metadata": {},
     "output_type": "execute_result"
    }
   ],
   "source": [
    "eye(2)"
   ]
  },
  {
   "cell_type": "code",
   "execution_count": 152,
   "metadata": {},
   "outputs": [
    {
     "name": "stdout",
     "output_type": "stream",
     "text": [
      "search: h\u001b[1me\u001b[22mx2b\u001b[1my\u001b[22mt\u001b[1me\u001b[22m\u001b[1ms\u001b[22m r\u001b[1me\u001b[22madb\u001b[1my\u001b[22mt\u001b[1me\u001b[22m\u001b[1ms\u001b[22m! \u001b[1me\u001b[22m\u001b[1my\u001b[22m\u001b[1me\u001b[22m K\u001b[1me\u001b[22m\u001b[1my\u001b[22m\u001b[1mE\u001b[22mrror sp\u001b[1me\u001b[22m\u001b[1my\u001b[22m\u001b[1me\u001b[22m \u001b[1me\u001b[22mlt\u001b[1my\u001b[22mp\u001b[1me\u001b[22m k\u001b[1me\u001b[22m\u001b[1my\u001b[22mtyp\u001b[1me\u001b[22m sup\u001b[1me\u001b[22mrt\u001b[1my\u001b[22mp\u001b[1me\u001b[22m\n",
      "\n",
      "Couldn't find \u001b[36meyes\n",
      "\u001b[39mPerhaps you meant eye, keys, eigs, eps, ones, Sys, speye, e, edit, eig or eof\n"
     ]
    },
    {
     "data": {
      "text/markdown": [
       "No documentation found.\n",
       "\n",
       "Binding `eyes` does not exist.\n"
      ],
      "text/plain": [
       "No documentation found.\n",
       "\n",
       "Binding `eyes` does not exist.\n"
      ]
     },
     "execution_count": 152,
     "metadata": {},
     "output_type": "execute_result"
    }
   ],
   "source": [
    "?eyes"
   ]
  },
  {
   "cell_type": "code",
   "execution_count": 154,
   "metadata": {},
   "outputs": [
    {
     "data": {
      "text/plain": [
       "4-element Array{Any,1}:\n",
       " #undef\n",
       " #undef\n",
       " #undef\n",
       " #undef"
      ]
     },
     "execution_count": 154,
     "metadata": {},
     "output_type": "execute_result"
    }
   ],
   "source": [
    "x = Vector(4)"
   ]
  },
  {
   "cell_type": "code",
   "execution_count": 162,
   "metadata": {},
   "outputs": [
    {
     "data": {
      "text/plain": [
       "2×1 Array{Float64,2}:\n",
       " 0.832802\n",
       " 0.921686"
      ]
     },
     "execution_count": 162,
     "metadata": {},
     "output_type": "execute_result"
    }
   ],
   "source": [
    "x = rand(2,1)\n",
    "typeof(x)\n",
    "rand(2,2)*x"
   ]
  },
  {
   "cell_type": "code",
   "execution_count": null,
   "metadata": {},
   "outputs": [],
   "source": []
  }
 ],
 "metadata": {
  "kernelspec": {
   "display_name": "Julia 0.6.2",
   "language": "julia",
   "name": "julia-0.6"
  },
  "language_info": {
   "file_extension": ".jl",
   "mimetype": "application/julia",
   "name": "julia",
   "version": "0.6.2"
  },
  "latex_envs": {
   "LaTeX_envs_menu_present": true,
   "autoclose": false,
   "autocomplete": true,
   "bibliofile": "biblio.bib",
   "cite_by": "apalike",
   "current_citInitial": 1,
   "eqLabelWithNumbers": true,
   "eqNumInitial": 1,
   "hotkeys": {
    "equation": "Ctrl-E",
    "itemize": "Ctrl-I"
   },
   "labels_anchors": false,
   "latex_user_defs": false,
   "report_style_numbering": false,
   "user_envs_cfg": false
  }
 },
 "nbformat": 4,
 "nbformat_minor": 2
}
